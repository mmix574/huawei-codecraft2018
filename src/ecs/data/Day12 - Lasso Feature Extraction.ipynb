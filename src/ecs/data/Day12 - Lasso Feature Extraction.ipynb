{
 "cells": [
  {
   "cell_type": "code",
   "execution_count": 330,
   "metadata": {
    "collapsed": true
   },
   "outputs": [],
   "source": [
    "import numpy as np\n",
    "import pandas as pd\n",
    "import matplotlib.pyplot as plt"
   ]
  },
  {
   "cell_type": "code",
   "execution_count": 331,
   "metadata": {
    "collapsed": true
   },
   "outputs": [],
   "source": [
    "def preprocessing(df):\n",
    "    df.columns = ['uuid','flover_raw','time']\n",
    "    df['time'] = pd.to_datetime(df['time'])\n",
    "    df['flover'] = df['flover_raw'].apply(lambda x:int(x[x.find('r')+1:]))\n",
    "    df['date'] = df['time'].apply(lambda x:pd.datetime.date(x))\n",
    "    ndf = df[['flover','time','date']]\n",
    "    ndf.index = df['time']\n",
    "    return ndf"
   ]
  },
  {
   "cell_type": "code",
   "execution_count": 332,
   "metadata": {
    "collapsed": true
   },
   "outputs": [],
   "source": [
    "list_of_files_train = ['data_2015_1.txt','data_2015_2.txt','data_2015_3.txt','data_2015_4.txt','data_2015_5.txt']\n",
    "list_of_files_validation = ['data_2015_12.txt','data_2016_1.txt']\n",
    "\n",
    "lists_of_dataframe_train = [pd.read_table(''+list_of_files_train[i],header=None) for i in range(len(list_of_files_train))]\n",
    "lists_of_dataframe_validation = [pd.read_table(''+list_of_files_validation[i],header=None) for i in range(len(list_of_files_validation))]"
   ]
  },
  {
   "cell_type": "code",
   "execution_count": 333,
   "metadata": {
    "collapsed": true
   },
   "outputs": [],
   "source": [
    "df_train = pd.concat(lists_of_dataframe_train,axis=0,ignore_index=True)\n",
    "df_validation = pd.concat(lists_of_dataframe_validation,axis=0,ignore_index=True)\n",
    "df_train = preprocessing(df_train)\n",
    "df_validation = preprocessing(df_validation)"
   ]
  },
  {
   "cell_type": "code",
   "execution_count": 334,
   "metadata": {
    "collapsed": true
   },
   "outputs": [],
   "source": [
    "def transform(df):\n",
    "    flavors_unique = np.sort(np.array(df['flover'].unique(),dtype=np.int))\n",
    "    start_date = df['date'][0]\n",
    "    end_date = df['date'][df.shape[0]-1]\n",
    "    observation = pd.DataFrame(index=pd.date_range(start_date,end_date),columns=flavors_unique).fillna(0)\n",
    "    for i in flavors_unique:\n",
    "        observation[i] = df[df['flover']==i][['flover','date']].groupby('date').count()\n",
    "    observation = observation.fillna(0)\n",
    "    return observation"
   ]
  },
  {
   "cell_type": "code",
   "execution_count": 369,
   "metadata": {
    "collapsed": true
   },
   "outputs": [],
   "source": [
    "training_data = transform(df_train).resample('W',base=1).sum()\n",
    "validation_data = transform(df_validation).resample('W',base=1).sum()\n",
    "validation_data = validation_data[training_data.columns] # filter some flavors not show in the training data"
   ]
  },
  {
   "cell_type": "code",
   "execution_count": 402,
   "metadata": {
    "collapsed": true
   },
   "outputs": [],
   "source": [
    "from datetime import timedelta"
   ]
  },
  {
   "cell_type": "code",
   "execution_count": 403,
   "metadata": {},
   "outputs": [],
   "source": [
    "A = []\n",
    "for i in range(7):\n",
    "    A.append(transform(df_train).resample('W',loffset=timedelta(days=i)).sum())"
   ]
  },
  {
   "cell_type": "code",
   "execution_count": 405,
   "metadata": {},
   "outputs": [
    {
     "data": {
      "text/plain": [
       "datetime.timedelta(1)"
      ]
     },
     "execution_count": 405,
     "metadata": {},
     "output_type": "execute_result"
    }
   ],
   "source": [
    "timedelta(days=1)"
   ]
  },
  {
   "cell_type": "code",
   "execution_count": 370,
   "metadata": {
    "collapsed": true
   },
   "outputs": [],
   "source": [
    "N = 2"
   ]
  },
  {
   "cell_type": "code",
   "execution_count": 371,
   "metadata": {
    "collapsed": true
   },
   "outputs": [],
   "source": [
    "X_train = np.hstack([training_data,training_data.shift(1)])[2:-1]\n",
    "Y_train = np.array(training_data)[3:]\n",
    "X_val = np.hstack([validation_data,validation_data.shift(1)])[2:-1]\n",
    "Y_val = np.array(validation_data)[3:]"
   ]
  },
  {
   "cell_type": "code",
   "execution_count": 372,
   "metadata": {},
   "outputs": [
    {
     "data": {
      "text/plain": [
       "(19, 40)"
      ]
     },
     "execution_count": 372,
     "metadata": {},
     "output_type": "execute_result"
    }
   ],
   "source": [
    "np.hstack([training_data,training_data.shift(1)])[2:-1].shape"
   ]
  },
  {
   "cell_type": "code",
   "execution_count": 373,
   "metadata": {},
   "outputs": [
    {
     "data": {
      "text/plain": [
       "(19, 40)"
      ]
     },
     "execution_count": 373,
     "metadata": {},
     "output_type": "execute_result"
    }
   ],
   "source": [
    "X_train.shape"
   ]
  },
  {
   "cell_type": "code",
   "execution_count": 374,
   "metadata": {
    "collapsed": true
   },
   "outputs": [],
   "source": [
    "# X_train = X_train.tolist()\n",
    "# Y_train = Y_train.tolist()"
   ]
  },
  {
   "cell_type": "code",
   "execution_count": 375,
   "metadata": {
    "collapsed": true
   },
   "outputs": [],
   "source": [
    "# X_val = X_val.tolist()\n",
    "# Y_val = Y_val.tolist()"
   ]
  },
  {
   "cell_type": "code",
   "execution_count": 376,
   "metadata": {
    "collapsed": true
   },
   "outputs": [],
   "source": [
    "def loss(y,y_):\n",
    "    y_[y_<0] = 0\n",
    "    return np.mean(np.sum(np.power((y-y_),2),axis=1))"
   ]
  },
  {
   "cell_type": "code",
   "execution_count": null,
   "metadata": {
    "collapsed": true
   },
   "outputs": [],
   "source": []
  },
  {
   "cell_type": "code",
   "execution_count": 377,
   "metadata": {},
   "outputs": [
    {
     "data": {
      "text/plain": [
       "(19, 40)"
      ]
     },
     "execution_count": 377,
     "metadata": {},
     "output_type": "execute_result"
    }
   ],
   "source": [
    "X_train.shape"
   ]
  },
  {
   "cell_type": "markdown",
   "metadata": {},
   "source": [
    " 原始方法"
   ]
  },
  {
   "cell_type": "code",
   "execution_count": 378,
   "metadata": {},
   "outputs": [
    {
     "name": "stdout",
     "output_type": "stream",
     "text": [
      "(6, 20)\n"
     ]
    },
    {
     "data": {
      "image/png": "[encoded data removed]",
      "text/plain": [
       "<matplotlib.figure.Figure at 0x282ca1fa2e8>"
      ]
     },
     "metadata": {},
     "output_type": "display_data"
    }
   ],
   "source": [
    "p1 = np.array(validation_data)[2:-1]\n",
    "p2 = np.array(validation_data)[1:-2]\n",
    "p3 = np.array(validation_data)[0:-3]\n",
    "p = 0.7*p1 + 0.2*p2 + 0.1*p3\n",
    "print(p.shape)\n",
    "p[p<0]=0\n",
    "plt.plot(p-Y_val)\n",
    "plt.show()"
   ]
  },
  {
   "cell_type": "code",
   "execution_count": 345,
   "metadata": {},
   "outputs": [
    {
     "data": {
      "text/plain": [
       "(19, 40)"
      ]
     },
     "execution_count": 345,
     "metadata": {},
     "output_type": "execute_result"
    }
   ],
   "source": [
    "np.array(X_train).shape"
   ]
  },
  {
   "cell_type": "code",
   "execution_count": null,
   "metadata": {
    "collapsed": true
   },
   "outputs": [],
   "source": []
  },
  {
   "cell_type": "code",
   "execution_count": null,
   "metadata": {
    "collapsed": true
   },
   "outputs": [],
   "source": []
  },
  {
   "cell_type": "code",
   "execution_count": null,
   "metadata": {
    "collapsed": true
   },
   "outputs": [],
   "source": []
  }
 ],
 "metadata": {
  "kernelspec": {
   "display_name": "Python 3",
   "language": "python",
   "name": "python3"
  },
  "language_info": {
   "codemirror_mode": {
    "name": "ipython",
    "version": 3
   },
   "file_extension": ".py",
   "mimetype": "text/x-python",
   "name": "python",
   "nbconvert_exporter": "python",
   "pygments_lexer": "ipython3",
   "version": "3.6.2"
  }
 },
 "nbformat": 4,
 "nbformat_minor": 2
}
