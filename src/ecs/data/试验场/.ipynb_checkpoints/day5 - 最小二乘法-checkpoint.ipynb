{
 "cells": [
  {
   "cell_type": "code",
   "execution_count": 1,
   "metadata": {
    "collapsed": true
   },
   "outputs": [],
   "source": [
    "import matplotlib.pyplot as plt\n",
    "import math"
   ]
  },
  {
   "cell_type": "markdown",
   "metadata": {},
   "source": [
    "# 生成一些点"
   ]
  },
  {
   "cell_type": "code",
   "execution_count": 2,
   "metadata": {
    "collapsed": true
   },
   "outputs": [],
   "source": [
    "original_x = [1,2,3,4,5,6,7,8,9]"
   ]
  },
  {
   "cell_type": "code",
   "execution_count": 3,
   "metadata": {
    "collapsed": true
   },
   "outputs": [],
   "source": [
    "original_y = [math.sin(k) for k in original_x]"
   ]
  },
  {
   "cell_type": "code",
   "execution_count": 4,
   "metadata": {},
   "outputs": [
    {
     "data": {
      "image/png": "[encoded data removed]",
      "text/plain": [
       "<matplotlib.figure.Figure at 0x1cc231869e8>"
      ]
     },
     "metadata": {},
     "output_type": "display_data"
    }
   ],
   "source": [
    "plt.plot(original_x,original_y,marker='o')\n",
    "plt.show()"
   ]
  },
  {
   "cell_type": "code",
   "execution_count": 5,
   "metadata": {
    "collapsed": true
   },
   "outputs": [],
   "source": [
    "def arange(a,b,count):\n",
    "    h = (b - a)/count\n",
    "    return [i*h+a for i in range(count)]"
   ]
  },
  {
   "cell_type": "code",
   "execution_count": 6,
   "metadata": {
    "collapsed": true
   },
   "outputs": [],
   "source": [
    "def shape(A):\n",
    "    assert(type(A)==list)\n",
    "    B = A\n",
    "    s = []\n",
    "    while(type(B)==list and len(B)!=0):\n",
    "        s.append(len(B))\n",
    "        B = B[0]\n",
    "    return tuple(s)"
   ]
  },
  {
   "cell_type": "code",
   "execution_count": 7,
   "metadata": {
    "collapsed": true
   },
   "outputs": [],
   "source": [
    "def dim(A):\n",
    "    assert(type(A)==list)\n",
    "    d = 0\n",
    "    B = A\n",
    "    while(type(B)==list and len(B)!=0):\n",
    "        d += 1\n",
    "        B = B[0]\n",
    "    return d"
   ]
  },
  {
   "cell_type": "code",
   "execution_count": 8,
   "metadata": {
    "collapsed": true
   },
   "outputs": [],
   "source": [
    "def vector_add(A,B):\n",
    "    assert(type(A)==list and type(B)==list and dim(A)==1 and dim(B)==1 and shape(A)==shape(B))\n",
    "    return [A[i] + B[i]for i in range(shape(A)[0])]"
   ]
  },
  {
   "cell_type": "code",
   "execution_count": 9,
   "metadata": {
    "collapsed": true
   },
   "outputs": [],
   "source": [
    "def vector_multiply(A,B):\n",
    "    assert(type(A)==list and type(B)==list and dim(A)==1 and dim(B)==1 and shape(A)==shape(B))\n",
    "    return [A[i] * B[i]for i in range(shape(A)[0])]"
   ]
  },
  {
   "cell_type": "code",
   "execution_count": 10,
   "metadata": {
    "collapsed": true
   },
   "outputs": [],
   "source": [
    "# 矩阵操作"
   ]
  },
  {
   "cell_type": "code",
   "execution_count": 11,
   "metadata": {
    "collapsed": true
   },
   "outputs": [],
   "source": [
    "def zeros(s,dtype=float):\n",
    "    if type(s)==int:\n",
    "        return [0 for _ in range(s)]\n",
    "    elif type(s) == tuple and len(s)==1:\n",
    "        return [0 for _ in range(s[0])]\n",
    "    else:\n",
    "        r = zeros(s[1:],dtype=dtype)\n",
    "        result = []\n",
    "        for i in range(s[0]):\n",
    "            result.append(r)\n",
    "    return result"
   ]
  },
  {
   "cell_type": "code",
   "execution_count": 12,
   "metadata": {
    "collapsed": true
   },
   "outputs": [],
   "source": [
    "# def det(A):\n",
    "#     assert(dim(A)==2 and shape(A)[0]==shape(A)[1])\n",
    "#     pass"
   ]
  },
  {
   "cell_type": "code",
   "execution_count": 13,
   "metadata": {
    "collapsed": true
   },
   "outputs": [],
   "source": [
    "def identity_matrix(s,dtype=float):\n",
    "    assert(type(s)==int)\n",
    "    result = []\n",
    "    for i in range(s):\n",
    "        r = []\n",
    "        for j in range(s):\n",
    "            if i==j:\n",
    "                r.append(dtype(1))\n",
    "            else:\n",
    "                r.append(dtype(0))\n",
    "        result.append(r)\n",
    "    return result"
   ]
  },
  {
   "cell_type": "code",
   "execution_count": 14,
   "metadata": {
    "collapsed": true
   },
   "outputs": [],
   "source": [
    "def row_assign(A,dest,source,factor):\n",
    "    assert(dim(A)==2)\n",
    "    A[dest] = [factor*A[source][i] +A[dest][i] for i in range(len(A[source]))]"
   ]
  },
  {
   "cell_type": "code",
   "execution_count": 15,
   "metadata": {
    "collapsed": true
   },
   "outputs": [],
   "source": [
    "def row_switch(A,dest,source):\n",
    "    assert(dim(A)==2)\n",
    "    t = A[dest]\n",
    "    A[dest] = A[source]\n",
    "    A[source] = t"
   ]
  },
  {
   "cell_type": "code",
   "execution_count": 16,
   "metadata": {
    "collapsed": true
   },
   "outputs": [],
   "source": [
    "def col_switch(A,dest,source):\n",
    "    assert(dim(A)==2)\n",
    "    m,n = shape(A)\n",
    "    for i in range(m):\n",
    "        t = A[i][dest]\n",
    "        A[i][dest] = A[i][source]\n",
    "        A[i][source] = t"
   ]
  },
  {
   "cell_type": "code",
   "execution_count": 17,
   "metadata": {
    "collapsed": true
   },
   "outputs": [],
   "source": [
    "# def matrix_multipy_factor(A,fa):\n",
    "#     assert(dim(A)==2 and (type(fa)==float or type(fa)==int))\n",
    "#     m = shape(A)[0]\n",
    "#     n = shape(A)[1]\n",
    "#     for i in range(m):\n",
    "#         for j in range(n):\n",
    "#             A[i][j] = A[i][j] *fa"
   ]
  },
  {
   "cell_type": "code",
   "execution_count": null,
   "metadata": {
    "collapsed": true
   },
   "outputs": [],
   "source": []
  },
  {
   "cell_type": "code",
   "execution_count": 18,
   "metadata": {
    "collapsed": true
   },
   "outputs": [],
   "source": [
    "def matrix_inverse(A):\n",
    "    assert(dim(A)==2)\n",
    "    N = shape(A)[0]\n",
    "    L = identity_matrix(N)\n",
    "    R = identity_matrix(N)\n",
    "    #下三角     \n",
    "    for j in range(N):\n",
    "        for i in range(N):\n",
    "            #完全选主元             \n",
    "            if i==j:\n",
    "                max_k = i\n",
    "                max_w = j\n",
    "                for k in range(i,N):\n",
    "                    for w in range(j,N):\n",
    "                        if A[k][w]>A[max_k][max_w]:\n",
    "                            max_k,max_w = k,w\n",
    "                row_switch(A,i,max_k)\n",
    "                row_switch(L,i,max_k)\n",
    "                col_switch(A,j,max_w)\n",
    "                col_switch(R,j,max_w)\n",
    "            if i>j:\n",
    "                if A[j][j]==0:\n",
    "                    return None\n",
    "                fa = -A[i][j]/A[j][j]\n",
    "                row_assign(A,i,j,fa)\n",
    "                row_assign(L,i,j,fa)\n",
    "\n",
    "    #上三角     \n",
    "    for j in range(N)[::-1]:\n",
    "        for i in range(N)[::-1]:\n",
    "            if i<j:\n",
    "                if A[j][j]==0:\n",
    "                    return None\n",
    "                fa = -A[i][j]/A[j][j]\n",
    "                row_assign(A,i,j,fa)\n",
    "                row_assign(L,i,j,fa)\n",
    "                \n",
    "    for i in range(len(L)):\n",
    "        L[i] = [x / A[i][i] for x in L[i]]\n",
    "    return matrix_mutmul(R,L)"
   ]
  },
  {
   "cell_type": "code",
   "execution_count": 19,
   "metadata": {
    "collapsed": true
   },
   "outputs": [],
   "source": [
    "def matrix_transpose(A):\n",
    "    assert(dim(A)==2)\n",
    "    m = shape(A)[0]\n",
    "    n = shape(A)[1]\n",
    "    result = []\n",
    "    for j in range(n):\n",
    "        r = []\n",
    "        for i in range(m):\n",
    "            r.append(A[i][j])\n",
    "        result.append(r)\n",
    "    return result"
   ]
  },
  {
   "cell_type": "code",
   "execution_count": 20,
   "metadata": {
    "collapsed": true
   },
   "outputs": [],
   "source": [
    "def matrix_mutmul(A,B):\n",
    "    assert(dim(A)==2 and dim(B)==2 and shape(A)[1]==shape(B)[0])\n",
    "    def __sub_product(A,i,B,j):\n",
    "        N = len(A[i])\n",
    "        partial_sum = 0\n",
    "        for k in range(N):\n",
    "            partial_sum += A[i][k]*B[k][j]\n",
    "        return partial_sum\n",
    "    \n",
    "    m = shape(A)[0]\n",
    "    n = shape(B)[1]\n",
    "    \n",
    "    R = []\n",
    "    for i in range(m):\n",
    "        r = []\n",
    "        for j in range(n):\n",
    "            r.append(__sub_product(A,i,B,j))\n",
    "        R.append(r)\n",
    "    return R"
   ]
  },
  {
   "cell_type": "markdown",
   "metadata": {},
   "source": [
    "# 最小二乘拟合 - 二次方多项式"
   ]
  },
  {
   "cell_type": "code",
   "execution_count": 21,
   "metadata": {
    "collapsed": true
   },
   "outputs": [],
   "source": [
    "family = [lambda x:1,lambda x:x,lambda x:x**2]"
   ]
  },
  {
   "cell_type": "code",
   "execution_count": 22,
   "metadata": {
    "collapsed": true
   },
   "outputs": [],
   "source": [
    "X = [[f(k) for f in family] for k in original_x]"
   ]
  },
  {
   "cell_type": "code",
   "execution_count": 23,
   "metadata": {
    "collapsed": true
   },
   "outputs": [],
   "source": [
    "Y = [[k] for k in original_y]"
   ]
  },
  {
   "cell_type": "code",
   "execution_count": 24,
   "metadata": {},
   "outputs": [
    {
     "data": {
      "text/plain": [
       "[[0.8414709848078965],\n",
       " [0.9092974268256817],\n",
       " [0.1411200080598672],\n",
       " [-0.7568024953079282],\n",
       " [-0.9589242746631385],\n",
       " [-0.27941549819892586],\n",
       " [0.6569865987187891],\n",
       " [0.9893582466233818],\n",
       " [0.4121184852417566]]"
      ]
     },
     "execution_count": 24,
     "metadata": {},
     "output_type": "execute_result"
    }
   ],
   "source": [
    "Y"
   ]
  },
  {
   "cell_type": "code",
   "execution_count": 25,
   "metadata": {},
   "outputs": [
    {
     "data": {
      "text/plain": [
       "[[1, 1, 1],\n",
       " [1, 2, 4],\n",
       " [1, 3, 9],\n",
       " [1, 4, 16],\n",
       " [1, 5, 25],\n",
       " [1, 6, 36],\n",
       " [1, 7, 49],\n",
       " [1, 8, 64],\n",
       " [1, 9, 81]]"
      ]
     },
     "execution_count": 25,
     "metadata": {},
     "output_type": "execute_result"
    }
   ],
   "source": [
    "X"
   ]
  },
  {
   "cell_type": "code",
   "execution_count": 26,
   "metadata": {
    "collapsed": true
   },
   "outputs": [],
   "source": [
    "X_T = matrix_transpose(X)"
   ]
  },
  {
   "cell_type": "code",
   "execution_count": 27,
   "metadata": {},
   "outputs": [
    {
     "data": {
      "text/plain": [
       "[[1, 1, 1, 1, 1, 1, 1, 1, 1],\n",
       " [1, 2, 3, 4, 5, 6, 7, 8, 9],\n",
       " [1, 4, 9, 16, 25, 36, 49, 64, 81]]"
      ]
     },
     "execution_count": 27,
     "metadata": {},
     "output_type": "execute_result"
    }
   ],
   "source": [
    "X_T"
   ]
  },
  {
   "cell_type": "code",
   "execution_count": 28,
   "metadata": {},
   "outputs": [
    {
     "data": {
      "text/plain": [
       "[[9, 45, 285], [45, 285, 2025], [285, 2025, 15333]]"
      ]
     },
     "execution_count": 28,
     "metadata": {},
     "output_type": "execute_result"
    }
   ],
   "source": [
    "matrix_mutmul(X_T,X)"
   ]
  },
  {
   "cell_type": "code",
   "execution_count": 29,
   "metadata": {
    "collapsed": true
   },
   "outputs": [],
   "source": [
    "b = matrix_mutmul(matrix_mutmul(matrix_inverse(matrix_mutmul(X_T,X)),X_T),Y)"
   ]
  },
  {
   "cell_type": "markdown",
   "metadata": {},
   "source": [
    "获得系数"
   ]
  },
  {
   "cell_type": "code",
   "execution_count": 30,
   "metadata": {},
   "outputs": [
    {
     "data": {
      "text/plain": [
       "[[1.7780884408303934], [-0.8522869993427271], [0.08528185433353168]]"
      ]
     },
     "execution_count": 30,
     "metadata": {},
     "output_type": "execute_result"
    }
   ],
   "source": [
    "b"
   ]
  },
  {
   "cell_type": "code",
   "execution_count": 31,
   "metadata": {
    "collapsed": true
   },
   "outputs": [],
   "source": [
    "xx = arange(original_x[0],original_x[-1],100)"
   ]
  },
  {
   "cell_type": "code",
   "execution_count": 32,
   "metadata": {
    "collapsed": true
   },
   "outputs": [],
   "source": [
    "yy = [] \n",
    "for k in xx:\n",
    "    yy.append(sum([b[i][0]*family[i](k) for i in range(len(family))]))"
   ]
  },
  {
   "cell_type": "code",
   "execution_count": 33,
   "metadata": {},
   "outputs": [
    {
     "data": {
      "image/png": "[encoded data removed]",
      "text/plain": [
       "<matplotlib.figure.Figure at 0x1cc23573b70>"
      ]
     },
     "metadata": {},
     "output_type": "display_data"
    }
   ],
   "source": [
    "plt.plot(xx,yy,label='fitting curve')\n",
    "plt.scatter(original_x,original_y,label='original data',c='red')\n",
    "plt.legend()\n",
    "plt.show()"
   ]
  },
  {
   "cell_type": "markdown",
   "metadata": {},
   "source": [
    "# 最小二乘拟合 - 四次方多项式"
   ]
  },
  {
   "cell_type": "code",
   "execution_count": 34,
   "metadata": {
    "collapsed": true
   },
   "outputs": [],
   "source": [
    "family = [lambda x:1,lambda x:x,lambda x:x**2,lambda x:math.pow(x,3),lambda x:math.pow(x,4)]"
   ]
  },
  {
   "cell_type": "code",
   "execution_count": 35,
   "metadata": {
    "collapsed": true
   },
   "outputs": [],
   "source": [
    "X = [[f(k) for f in family] for k in original_x]\n",
    "Y = [[k] for k in original_y]"
   ]
  },
  {
   "cell_type": "code",
   "execution_count": 36,
   "metadata": {
    "collapsed": true
   },
   "outputs": [],
   "source": [
    "X_T = matrix_transpose(X)"
   ]
  },
  {
   "cell_type": "code",
   "execution_count": 37,
   "metadata": {
    "collapsed": true
   },
   "outputs": [],
   "source": [
    "b = matrix_mutmul(matrix_mutmul(matrix_inverse(matrix_mutmul(X_T,X)),X_T),Y)"
   ]
  },
  {
   "cell_type": "code",
   "execution_count": 38,
   "metadata": {
    "collapsed": true
   },
   "outputs": [],
   "source": [
    "xx = arange(original_x[0],original_x[-1],100)\n",
    "yy = [] \n",
    "for k in xx:\n",
    "    yy.append(sum([b[i][0]*family[i](k) for i in range(len(family))]))"
   ]
  },
  {
   "cell_type": "code",
   "execution_count": 39,
   "metadata": {},
   "outputs": [
    {
     "data": {
      "image/png": "[encoded data removed]",
      "text/plain": [
       "<matplotlib.figure.Figure at 0x1cc23523780>"
      ]
     },
     "metadata": {},
     "output_type": "display_data"
    }
   ],
   "source": [
    "plt.plot(xx,yy,label='fitting curve')\n",
    "plt.scatter(original_x,original_y,label='original data',c='red')\n",
    "plt.legend()\n",
    "plt.show()"
   ]
  },
  {
   "cell_type": "markdown",
   "metadata": {},
   "source": [
    "# 稳定性测试"
   ]
  },
  {
   "cell_type": "code",
   "execution_count": 40,
   "metadata": {},
   "outputs": [
    {
     "name": "stdout",
     "output_type": "stream",
     "text": [
      "------------------------\n",
      "24.9570326994\n",
      "24.9570326994\n"
     ]
    },
    {
     "name": "stderr",
     "output_type": "stream",
     "text": [
      "C:\\Users\\taita\\Anaconda3\\lib\\site-packages\\sklearn\\cross_validation.py:41: DeprecationWarning: This module was deprecated in version 0.18 in favor of the model_selection module into which all the refactored classes and functions are moved. Also note that the interface of the new CV iterators are different from that of this module. This module will be removed in 0.20.\n",
      "  \"This module will be removed in 0.20.\", DeprecationWarning)\n"
     ]
    }
   ],
   "source": [
    "import numpy as np\n",
    "import pandas as pd\n",
    "import matplotlib.pyplot as plt\n",
    "\n",
    "\n",
    "from sklearn.datasets import load_boston\n",
    "from sklearn.cross_validation import train_test_split\n",
    "\n",
    "\n",
    "boston = load_boston()\n",
    "X_train,X_test,Y_train,Y_test = train_test_split(boston.data,boston.target)\n",
    "\n",
    "\n",
    "X = X_train\n",
    "Y = Y_train\n",
    "\n",
    "\n",
    "W = np.zeros(X.shape[1])\n",
    "\n",
    "\n",
    "for i in range(0):\n",
    "    g = np.matmul(X.T,(np.matmul(X,W)-Y))\n",
    "    W -= 1e-8*g\n",
    "    loss = np.mean((np.matmul(X,W)-Y)**2)\n",
    "    print(loss)\n",
    "\n",
    "print('------------------------')\n",
    "    \n",
    "    \n",
    "W = np.matmul(np.matmul(np.linalg.pinv(np.matmul(X.T,X)),X.T),Y)\n",
    "loss = np.mean((np.matmul(X,W)-Y)**2)\n",
    "\n",
    "print(loss)\n",
    "\n",
    "\n",
    "W = np.matmul(np.matmul(np.linalg.inv(np.matmul(X.T,X)),X.T),Y)\n",
    "loss = np.mean((np.matmul(X,W)-Y)**2)\n",
    "\n",
    "print(loss)"
   ]
  },
  {
   "cell_type": "code",
   "execution_count": 41,
   "metadata": {
    "collapsed": true
   },
   "outputs": [],
   "source": [
    "x = [[k for k in v] for v in X]\n",
    "x_t = [[k for k in v] for v in X.T]\n",
    "y = [[v] for v in Y]"
   ]
  },
  {
   "cell_type": "code",
   "execution_count": 42,
   "metadata": {},
   "outputs": [
    {
     "data": {
      "text/plain": [
       "(13, 379)"
      ]
     },
     "execution_count": 42,
     "metadata": {},
     "output_type": "execute_result"
    }
   ],
   "source": [
    "shape(matrix_mutmul(matrix_inverse(matrix_mutmul(x_t,x)),x_t))"
   ]
  },
  {
   "cell_type": "code",
   "execution_count": 43,
   "metadata": {
    "collapsed": true
   },
   "outputs": [],
   "source": [
    "W = matrix_mutmul(matrix_mutmul(matrix_inverse(matrix_mutmul(x_t,x)),x_t),y)"
   ]
  },
  {
   "cell_type": "code",
   "execution_count": 44,
   "metadata": {},
   "outputs": [
    {
     "data": {
      "text/plain": [
       "[[-0.10561496430206037],\n",
       " [0.048651231580072479],\n",
       " [-0.024727357429281022],\n",
       " [3.069831239040469],\n",
       " [-3.7082609394315615],\n",
       " [6.1184599744130876],\n",
       " [-0.010706510830278813],\n",
       " [-1.0330925644375866],\n",
       " [0.18927569650529508],\n",
       " [-0.01036326747983835],\n",
       " [-0.38723480186496201],\n",
       " [0.013694128307566358],\n",
       " [-0.37062170435888231]]"
      ]
     },
     "execution_count": 44,
     "metadata": {},
     "output_type": "execute_result"
    }
   ],
   "source": [
    "W"
   ]
  },
  {
   "cell_type": "code",
   "execution_count": 45,
   "metadata": {},
   "outputs": [
    {
     "name": "stdout",
     "output_type": "stream",
     "text": [
      "24.9570326994\n"
     ]
    }
   ],
   "source": [
    "loss = np.mean((np.matmul(x,W)-y)**2)\n",
    "print(loss)"
   ]
  },
  {
   "cell_type": "code",
   "execution_count": null,
   "metadata": {
    "collapsed": true
   },
   "outputs": [],
   "source": []
  },
  {
   "cell_type": "code",
   "execution_count": null,
   "metadata": {
    "collapsed": true
   },
   "outputs": [],
   "source": []
  }
 ],
 "metadata": {
  "kernelspec": {
   "display_name": "Python 3",
   "language": "python",
   "name": "python3"
  },
  "language_info": {
   "codemirror_mode": {
    "name": "ipython",
    "version": 3
   },
   "file_extension": ".py",
   "mimetype": "text/x-python",
   "name": "python",
   "nbconvert_exporter": "python",
   "pygments_lexer": "ipython3",
   "version": "3.6.2"
  }
 },
 "nbformat": 4,
 "nbformat_minor": 2
}
