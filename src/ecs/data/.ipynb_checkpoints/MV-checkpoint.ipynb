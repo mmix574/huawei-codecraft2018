{
 "cells": [
  {
   "cell_type": "code",
   "execution_count": 1,
   "metadata": {
    "collapsed": true
   },
   "outputs": [],
   "source": [
    "import matplotlib.pyplot as plt\n",
    "import math"
   ]
  },
  {
   "cell_type": "markdown",
   "metadata": {},
   "source": [
    "# 生成一些点"
   ]
  },
  {
   "cell_type": "code",
   "execution_count": 2,
   "metadata": {
    "collapsed": true
   },
   "outputs": [],
   "source": [
    "x = [1,2,3,4,5,6,7,8,9]"
   ]
  },
  {
   "cell_type": "code",
   "execution_count": 3,
   "metadata": {
    "collapsed": true
   },
   "outputs": [],
   "source": [
    "y = [math.sin(k) for k in x]"
   ]
  },
  {
   "cell_type": "code",
   "execution_count": 4,
   "metadata": {},
   "outputs": [
    {
     "data": {
      "image/png": "[encoded data removed]",
      "text/plain": [
       "<matplotlib.figure.Figure at 0x1c8df815400>"
      ]
     },
     "metadata": {},
     "output_type": "display_data"
    }
   ],
   "source": [
    "plt.plot(x,y,marker='o')\n",
    "plt.show()"
   ]
  },
  {
   "cell_type": "code",
   "execution_count": 2,
   "metadata": {
    "collapsed": true
   },
   "outputs": [],
   "source": [
    "def arange(a,b,count):\n",
    "    h = (b - a)/count\n",
    "    return [i*h+a for i in range(count)]"
   ]
  },
  {
   "cell_type": "code",
   "execution_count": 3,
   "metadata": {
    "collapsed": true
   },
   "outputs": [],
   "source": [
    "# "
   ]
  },
  {
   "cell_type": "code",
   "execution_count": 4,
   "metadata": {
    "collapsed": true
   },
   "outputs": [],
   "source": [
    "def shape(A):\n",
    "    assert(type(A)==list)\n",
    "    B = A\n",
    "    s = []\n",
    "    while(type(B)==list and len(B)!=0):\n",
    "        s.append(len(B))\n",
    "        B = B[0]\n",
    "    return tuple(s)"
   ]
  },
  {
   "cell_type": "code",
   "execution_count": 8,
   "metadata": {
    "collapsed": true
   },
   "outputs": [],
   "source": [
    "def dim(A):\n",
    "    assert(type(A)==list)\n",
    "    d = 0\n",
    "    B = A\n",
    "    while(type(B)==list and len(B)!=0):\n",
    "        d += 1\n",
    "        B = B[0]\n",
    "    return d"
   ]
  },
  {
   "cell_type": "code",
   "execution_count": 9,
   "metadata": {
    "collapsed": true
   },
   "outputs": [],
   "source": [
    "def vector_add(A,B):\n",
    "    assert(type(A)==list and type(B)==list and dim(A)==1 and dim(B)==1 and shape(A)==shape(B))\n",
    "    return [A[i] + B[i]for i in range(shape(A)[0])]"
   ]
  },
  {
   "cell_type": "code",
   "execution_count": 10,
   "metadata": {
    "collapsed": true
   },
   "outputs": [],
   "source": [
    "def vector_multiply(A,B):\n",
    "    assert(type(A)==list and type(B)==list and dim(A)==1 and dim(B)==1 and shape(A)==shape(B))\n",
    "    return [A[i] * B[i]for i in range(shape(A)[0])]"
   ]
  },
  {
   "cell_type": "code",
   "execution_count": 11,
   "metadata": {
    "collapsed": true
   },
   "outputs": [],
   "source": [
    "# 矩阵操作"
   ]
  },
  {
   "cell_type": "code",
   "execution_count": 1,
   "metadata": {
    "collapsed": true
   },
   "outputs": [],
   "source": [
    "def zeros(s,dtype=float):\n",
    "    if type(s)==int:\n",
    "        return [0 for _ in range(s)]\n",
    "    elif type(s) == tuple and len(s)==1:\n",
    "        return [0 for _ in range(s[0])]\n",
    "    else:\n",
    "        import copy\n",
    "        r = zeros(s[1:],dtype=dtype)\n",
    "        R = []\n",
    "        for i in range(s[0]):\n",
    "            R.append(copy.deepcopy(r)) # fix a bug here\n",
    "    return R"
   ]
  },
  {
   "cell_type": "code",
   "execution_count": 13,
   "metadata": {
    "collapsed": true
   },
   "outputs": [],
   "source": [
    "def det(A):\n",
    "    assert(dim(A)==2 and shape(A)[0]==shape(A)[1])\n",
    "    pass"
   ]
  },
  {
   "cell_type": "code",
   "execution_count": 14,
   "metadata": {
    "collapsed": true
   },
   "outputs": [],
   "source": [
    "def identity_matrix(s,dtype=float):\n",
    "    assert(type(s)==int)\n",
    "    result = []\n",
    "    for i in range(s):\n",
    "        r = []\n",
    "        for j in range(s):\n",
    "            if i==j:\n",
    "                r.append(dtype(1))\n",
    "            else:\n",
    "                r.append(dtype(0))\n",
    "        result.append(r)\n",
    "    return result"
   ]
  },
  {
   "cell_type": "code",
   "execution_count": 15,
   "metadata": {
    "collapsed": true
   },
   "outputs": [],
   "source": [
    "def row_assign(A,dest,source,factor):\n",
    "    assert(dim(A)==2)\n",
    "    A[dest] = [factor*A[source][i] +A[dest][i] for i in range(len(A[source]))]"
   ]
  },
  {
   "cell_type": "code",
   "execution_count": 16,
   "metadata": {
    "collapsed": true
   },
   "outputs": [],
   "source": [
    "def matrix_multipy_factor(A,fa):\n",
    "    assert(dim(A)==2 and (type(fa)==float or type(fa)==int))\n",
    "    m = shape(A)[0]\n",
    "    n = shape(A)[1]\n",
    "    for i in range(m):\n",
    "        for j in range(n):\n",
    "            A[i][j] = A[i][j] *fa\n",
    "    pass"
   ]
  },
  {
   "cell_type": "markdown",
   "metadata": {},
   "source": []
  },
  {
   "cell_type": "code",
   "execution_count": 17,
   "metadata": {
    "collapsed": true
   },
   "outputs": [],
   "source": [
    "# 基础版本\n",
    "def matrix_inverse(A):\n",
    "    assert(dim(A)==2)\n",
    "    N = shape(A)[0]\n",
    "    R = identity_matrix(N)\n",
    "    #下三角     \n",
    "    for j in range(N):\n",
    "        for i in range(N):\n",
    "            if i>j:\n",
    "                fa = -A[i][j]/A[j][j]\n",
    "                row_assign(A,i,j,fa)\n",
    "                row_assign(R,i,j,fa)\n",
    "\n",
    "    #上三角     \n",
    "    for j in range(N)[::-1]:\n",
    "        for i in range(N)[::-1]:\n",
    "            if i<j:\n",
    "                fa = -A[i][j]/A[j][j]\n",
    "                row_assign(A,i,j,fa)\n",
    "                row_assign(R,i,j,fa)\n",
    "                \n",
    "    for i in range(len(R)):\n",
    "        R[i] = [x / A[i][i] for x in R[i]]\n",
    "    return R"
   ]
  },
  {
   "cell_type": "code",
   "execution_count": 18,
   "metadata": {
    "collapsed": true
   },
   "outputs": [],
   "source": [
    "def matrix_transpose(A):\n",
    "    assert(dim(A)==2)\n",
    "    m = shape(A)[0]\n",
    "    n = shape(A)[1]\n",
    "    result = []\n",
    "    for j in range(n):\n",
    "        r = []\n",
    "        for i in range(m):\n",
    "            r.append(A[i][j])\n",
    "        result.append(r)\n",
    "    return result"
   ]
  },
  {
   "cell_type": "code",
   "execution_count": 19,
   "metadata": {
    "collapsed": true
   },
   "outputs": [],
   "source": [
    "def matrix_mutmul(A,B):\n",
    "    assert(dim(A)==2 and dim(B)==2 and shape(A)[1]==shape(B)[0])\n",
    "    def __sub_product(A,i,B,j):\n",
    "        N = len(A[i])\n",
    "        partial_sum = 0\n",
    "        for k in range(N):\n",
    "            partial_sum += A[i][k]*B[k][j]\n",
    "        return partial_sum\n",
    "    \n",
    "    m = shape(A)[0]\n",
    "    n = shape(B)[1]\n",
    "    \n",
    "    R = []\n",
    "    for i in range(m):\n",
    "        r = []\n",
    "        for j in range(n):\n",
    "            r.append(__sub_product(A,i,B,j))\n",
    "        R.append(r)\n",
    "    return R"
   ]
  },
  {
   "cell_type": "markdown",
   "metadata": {},
   "source": [
    "# 最小二乘拟合 - 二次方多项式"
   ]
  },
  {
   "cell_type": "code",
   "execution_count": 20,
   "metadata": {
    "collapsed": true
   },
   "outputs": [],
   "source": [
    "family = [lambda x:1,lambda x:x,lambda x:x**2]"
   ]
  },
  {
   "cell_type": "code",
   "execution_count": 21,
   "metadata": {
    "collapsed": true
   },
   "outputs": [],
   "source": [
    "X = [[f(k) for f in family] for k in x]"
   ]
  },
  {
   "cell_type": "code",
   "execution_count": 22,
   "metadata": {
    "collapsed": true
   },
   "outputs": [],
   "source": [
    "Y = [[k] for k in y]"
   ]
  },
  {
   "cell_type": "code",
   "execution_count": 23,
   "metadata": {},
   "outputs": [
    {
     "data": {
      "text/plain": [
       "[[0.8414709848078965],\n",
       " [0.9092974268256817],\n",
       " [0.1411200080598672],\n",
       " [-0.7568024953079282],\n",
       " [-0.9589242746631385],\n",
       " [-0.27941549819892586],\n",
       " [0.6569865987187891],\n",
       " [0.9893582466233818],\n",
       " [0.4121184852417566]]"
      ]
     },
     "execution_count": 23,
     "metadata": {},
     "output_type": "execute_result"
    }
   ],
   "source": [
    "Y"
   ]
  },
  {
   "cell_type": "code",
   "execution_count": 24,
   "metadata": {},
   "outputs": [
    {
     "data": {
      "text/plain": [
       "[[1, 1, 1],\n",
       " [1, 2, 4],\n",
       " [1, 3, 9],\n",
       " [1, 4, 16],\n",
       " [1, 5, 25],\n",
       " [1, 6, 36],\n",
       " [1, 7, 49],\n",
       " [1, 8, 64],\n",
       " [1, 9, 81]]"
      ]
     },
     "execution_count": 24,
     "metadata": {},
     "output_type": "execute_result"
    }
   ],
   "source": [
    "X"
   ]
  },
  {
   "cell_type": "code",
   "execution_count": 25,
   "metadata": {
    "collapsed": true
   },
   "outputs": [],
   "source": [
    "X_T = matrix_transpose(X)"
   ]
  },
  {
   "cell_type": "code",
   "execution_count": 26,
   "metadata": {},
   "outputs": [
    {
     "data": {
      "text/plain": [
       "[[1, 1, 1, 1, 1, 1, 1, 1, 1],\n",
       " [1, 2, 3, 4, 5, 6, 7, 8, 9],\n",
       " [1, 4, 9, 16, 25, 36, 49, 64, 81]]"
      ]
     },
     "execution_count": 26,
     "metadata": {},
     "output_type": "execute_result"
    }
   ],
   "source": [
    "X_T"
   ]
  },
  {
   "cell_type": "code",
   "execution_count": 27,
   "metadata": {},
   "outputs": [
    {
     "data": {
      "text/plain": [
       "[[9, 45, 285], [45, 285, 2025], [285, 2025, 15333]]"
      ]
     },
     "execution_count": 27,
     "metadata": {},
     "output_type": "execute_result"
    }
   ],
   "source": [
    "matrix_mutmul(X_T,X)"
   ]
  },
  {
   "cell_type": "code",
   "execution_count": 28,
   "metadata": {
    "collapsed": true
   },
   "outputs": [],
   "source": [
    "b = matrix_mutmul(matrix_mutmul(matrix_inverse(matrix_mutmul(X_T,X)),X_T),Y)"
   ]
  },
  {
   "cell_type": "markdown",
   "metadata": {},
   "source": [
    "获得系数"
   ]
  },
  {
   "cell_type": "code",
   "execution_count": 29,
   "metadata": {},
   "outputs": [
    {
     "data": {
      "text/plain": [
       "[[1.7780884408304058], [-0.8522869993427321], [0.0852818543335323]]"
      ]
     },
     "execution_count": 29,
     "metadata": {},
     "output_type": "execute_result"
    }
   ],
   "source": [
    "b"
   ]
  },
  {
   "cell_type": "code",
   "execution_count": 30,
   "metadata": {
    "collapsed": true
   },
   "outputs": [],
   "source": [
    "xx = arange(x[0],x[-1],100)"
   ]
  },
  {
   "cell_type": "code",
   "execution_count": 31,
   "metadata": {
    "collapsed": true
   },
   "outputs": [],
   "source": [
    "yy = [] \n",
    "for k in xx:\n",
    "    yy.append(sum([b[i][0]*family[i](k) for i in range(len(family))]))"
   ]
  },
  {
   "cell_type": "code",
   "execution_count": 32,
   "metadata": {},
   "outputs": [
    {
     "data": {
      "image/png": "[encoded data removed]",
      "text/plain": [
       "<matplotlib.figure.Figure at 0x1c8dfe72518>"
      ]
     },
     "metadata": {},
     "output_type": "display_data"
    }
   ],
   "source": [
    "plt.plot(xx,yy,label='fitting curve')\n",
    "plt.plot(x,y,label='original data')\n",
    "plt.legend()\n",
    "plt.show()"
   ]
  },
  {
   "cell_type": "markdown",
   "metadata": {},
   "source": [
    "# 最小二乘拟合 - 三次方多项式"
   ]
  },
  {
   "cell_type": "code",
   "execution_count": 33,
   "metadata": {
    "collapsed": true
   },
   "outputs": [],
   "source": [
    "family = [lambda x:1,lambda x:x,lambda x:x**2,lambda x:math.pow(x,3)]"
   ]
  },
  {
   "cell_type": "code",
   "execution_count": 34,
   "metadata": {
    "collapsed": true
   },
   "outputs": [],
   "source": [
    "X = [[f(k) for f in family] for k in x]\n",
    "Y = [[k] for k in y]"
   ]
  },
  {
   "cell_type": "code",
   "execution_count": 35,
   "metadata": {
    "collapsed": true
   },
   "outputs": [],
   "source": [
    "X_T = matrix_transpose(X)"
   ]
  },
  {
   "cell_type": "code",
   "execution_count": 36,
   "metadata": {
    "collapsed": true
   },
   "outputs": [],
   "source": [
    "b = matrix_mutmul(matrix_mutmul(matrix_inverse(matrix_mutmul(X_T,X)),X_T),Y)"
   ]
  },
  {
   "cell_type": "code",
   "execution_count": 37,
   "metadata": {
    "collapsed": true
   },
   "outputs": [],
   "source": [
    "xx = arange(x[0],x[-1],100)\n",
    "yy = [] \n",
    "for k in xx:\n",
    "    yy.append(sum([b[i][0]*family[i](k) for i in range(len(family))]))"
   ]
  },
  {
   "cell_type": "code",
   "execution_count": 38,
   "metadata": {},
   "outputs": [
    {
     "data": {
      "image/png": "[encoded data removed]",
      "text/plain": [
       "<matplotlib.figure.Figure at 0x1c8dff07860>"
      ]
     },
     "metadata": {},
     "output_type": "display_data"
    }
   ],
   "source": [
    "plt.plot(xx,yy,label='fitting curve')\n",
    "plt.plot(x,y,label='original data')\n",
    "plt.legend()\n",
    "plt.show()"
   ]
  },
  {
   "cell_type": "code",
   "execution_count": null,
   "metadata": {
    "collapsed": true
   },
   "outputs": [],
   "source": []
  },
  {
   "cell_type": "code",
   "execution_count": null,
   "metadata": {
    "collapsed": true
   },
   "outputs": [],
   "source": []
  }
 ],
 "metadata": {
  "kernelspec": {
   "display_name": "Python 3",
   "language": "python",
   "name": "python3"
  },
  "language_info": {
   "codemirror_mode": {
    "name": "ipython",
    "version": 3
   },
   "file_extension": ".py",
   "mimetype": "text/x-python",
   "name": "python",
   "nbconvert_exporter": "python",
   "pygments_lexer": "ipython3",
   "version": "3.6.2"
  }
 },
 "nbformat": 4,
 "nbformat_minor": 2
}
