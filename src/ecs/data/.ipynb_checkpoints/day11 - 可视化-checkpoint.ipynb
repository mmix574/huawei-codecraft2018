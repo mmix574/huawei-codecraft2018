{
 "cells": [
  {
   "cell_type": "code",
   "execution_count": 1,
   "metadata": {
    "collapsed": true
   },
   "outputs": [],
   "source": [
    "import numpy as np\n",
    "import pandas as pd\n",
    "import matplotlib.pyplot as plt"
   ]
  },
  {
   "cell_type": "code",
   "execution_count": 2,
   "metadata": {
    "collapsed": true
   },
   "outputs": [],
   "source": [
    "def preprocessing(df):\n",
    "    df.columns = ['uuid','flover_raw','time']\n",
    "    df['time'] = pd.to_datetime(df['time'])\n",
    "    df['flover'] = df['flover_raw'].apply(lambda x:int(x[x.find('r')+1:]))\n",
    "    df['date'] = df['time'].apply(lambda x:pd.datetime.date(x))\n",
    "    ndf = df[['flover','time','date']]\n",
    "    ndf.index = df['time']\n",
    "    return ndf"
   ]
  },
  {
   "cell_type": "code",
   "execution_count": 3,
   "metadata": {
    "collapsed": true
   },
   "outputs": [],
   "source": [
    "list_of_files_train = ['data_2015_1.txt','data_2015_2.txt','data_2015_3.txt','data_2015_4.txt','data_2015_5.txt']\n",
    "list_of_files_validation = ['data_2015_12.txt','data_2016_1.txt']\n",
    "\n",
    "lists_of_dataframe_train = [pd.read_table(''+list_of_files_train[i],header=None) for i in range(len(list_of_files_train))]\n",
    "lists_of_dataframe_validation = [pd.read_table(''+list_of_files_validation[i],header=None) for i in range(len(list_of_files_validation))]"
   ]
  },
  {
   "cell_type": "code",
   "execution_count": 4,
   "metadata": {
    "collapsed": true
   },
   "outputs": [],
   "source": [
    "df_train = pd.concat(lists_of_dataframe_train,axis=0,ignore_index=True)\n",
    "df_validation = pd.concat(lists_of_dataframe_validation,axis=0,ignore_index=True)\n",
    "df_train = preprocessing(df_train)\n",
    "df_validation = preprocessing(df_validation)"
   ]
  },
  {
   "cell_type": "code",
   "execution_count": 5,
   "metadata": {
    "collapsed": true
   },
   "outputs": [],
   "source": [
    "def transform(df):\n",
    "    flavors_unique = np.sort(np.array(df['flover'].unique(),dtype=np.int))\n",
    "    start_date = df['date'][0]\n",
    "    end_date = df['date'][df.shape[0]-1]\n",
    "    observation = pd.DataFrame(index=pd.date_range(start_date,end_date),columns=flavors_unique).fillna(0)\n",
    "    for i in flavors_unique:\n",
    "        observation[i] = df[df['flover']==i][['flover','date']].groupby('date').count()\n",
    "    observation = observation.fillna(0)\n",
    "    return observation"
   ]
  },
  {
   "cell_type": "code",
   "execution_count": 32,
   "metadata": {
    "collapsed": true
   },
   "outputs": [],
   "source": [
    "training_data = transform(df_train)\n",
    "validation_data = transform(df_validation)[training_data.columns]"
   ]
  },
  {
   "cell_type": "code",
   "execution_count": 23,
   "metadata": {
    "collapsed": true
   },
   "outputs": [],
   "source": [
    "training_data = training_data.resample('W').sum()\n",
    "validation_data = validation_data.resample('W').sum()\n",
    "validation_data = validation_data[training_data.columns] # filter some flavors not show in the training data"
   ]
  },
  {
   "cell_type": "code",
   "execution_count": 27,
   "metadata": {},
   "outputs": [],
   "source": [
    "A = np.array(training_data)\n",
    "B = np.array(validation_data)"
   ]
  },
  {
   "cell_type": "code",
   "execution_count": 33,
   "metadata": {},
   "outputs": [
    {
     "name": "stdout",
     "output_type": "stream",
     "text": [
      "(22, 20)\n"
     ]
    }
   ],
   "source": [
    "print(A.shape)"
   ]
  },
  {
   "cell_type": "code",
   "execution_count": 34,
   "metadata": {},
   "outputs": [
    {
     "data": {
      "text/plain": [
       "(9, 20)"
      ]
     },
     "execution_count": 34,
     "metadata": {},
     "output_type": "execute_result"
    }
   ],
   "source": [
    "B.shape"
   ]
  },
  {
   "cell_type": "code",
   "execution_count": 35,
   "metadata": {},
   "outputs": [
    {
     "data": {
      "text/plain": [
       "(31, 20)"
      ]
     },
     "execution_count": 35,
     "metadata": {},
     "output_type": "execute_result"
    }
   ],
   "source": [
    "np.vstack([A,B]).shape"
   ]
  },
  {
   "cell_type": "code",
   "execution_count": null,
   "metadata": {
    "collapsed": true
   },
   "outputs": [],
   "source": []
  }
 ],
 "metadata": {
  "kernelspec": {
   "display_name": "Python 3",
   "language": "python",
   "name": "python3"
  },
  "language_info": {
   "codemirror_mode": {
    "name": "ipython",
    "version": 3
   },
   "file_extension": ".py",
   "mimetype": "text/x-python",
   "name": "python",
   "nbconvert_exporter": "python",
   "pygments_lexer": "ipython3",
   "version": "3.6.2"
  }
 },
 "nbformat": 4,
 "nbformat_minor": 2
}
