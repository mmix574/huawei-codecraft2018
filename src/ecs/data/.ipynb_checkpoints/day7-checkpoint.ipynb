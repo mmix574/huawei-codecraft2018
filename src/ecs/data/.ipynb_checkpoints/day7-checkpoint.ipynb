{
 "cells": [
  {
   "cell_type": "markdown",
   "metadata": {},
   "source": [
    "#  Experiment on Different Methods 方法大集成- day7"
   ]
  },
  {
   "cell_type": "code",
   "execution_count": 62,
   "metadata": {
    "collapsed": true
   },
   "outputs": [],
   "source": [
    "import numpy as np\n",
    "import pandas as pd\n",
    "import matplotlib.pyplot as plt"
   ]
  },
  {
   "cell_type": "code",
   "execution_count": 63,
   "metadata": {
    "collapsed": true
   },
   "outputs": [],
   "source": [
    "import tensorflow"
   ]
  },
  {
   "cell_type": "code",
   "execution_count": 77,
   "metadata": {
    "collapsed": true
   },
   "outputs": [],
   "source": [
    "def preprocessing(df):\n",
    "    df.columns = ['uuid','flover_raw','time']\n",
    "    df['time'] = pd.to_datetime(df['time'])\n",
    "    df['flover'] = df['flover_raw'].apply(lambda x:int(x[x.find('r')+1:]))\n",
    "    df['date'] = df['time'].apply(lambda x:pd.datetime.date(x))\n",
    "    ndf = df[['flover','time','date']]\n",
    "    ndf.index = df['time']\n",
    "    return ndf"
   ]
  },
  {
   "cell_type": "code",
   "execution_count": 83,
   "metadata": {
    "collapsed": true
   },
   "outputs": [],
   "source": [
    "list_of_files_train = ['data_2015_1.txt','data_2015_2.txt','data_2015_3.txt','data_2015_4.txt','data_2015_5.txt']\n",
    "list_of_files_validation = ['data_2015_12.txt','data_2016_1.txt']\n",
    "\n",
    "lists_of_dataframe_train = [pd.read_table(list_of_files_train[i],header=None) for i in range(len(list_of_files_train))]\n",
    "lists_of_dataframe_validation = [pd.read_table(list_of_files_validation[i],header=None) for i in range(len(list_of_files_validation))]"
   ]
  },
  {
   "cell_type": "code",
   "execution_count": 104,
   "metadata": {
    "collapsed": true
   },
   "outputs": [],
   "source": [
    "df_train = pd.concat(lists_of_dataframe_train,axis=0,ignore_index=True)\n",
    "df_validation = pd.concat(lists_of_dataframe_validation,axis=0,ignore_index=True)\n",
    "df_train = preprocessing(df_train)\n",
    "df_validation = preprocessing(df_validation)"
   ]
  },
  {
   "cell_type": "code",
   "execution_count": 125,
   "metadata": {
    "collapsed": true
   },
   "outputs": [],
   "source": [
    "def transform(df):\n",
    "    flavors_unique = np.sort(np.array(df['flover'].unique(),dtype=np.int))\n",
    "    start_date = df['date'][0]\n",
    "    end_date = df['date'][df.shape[0]-1]\n",
    "    observation = pd.DataFrame(index=pd.date_range(start_date,end_date),columns=flavors_unique).fillna(0)\n",
    "    for i in flavors_unique:\n",
    "        observation[i] = df[df['flover']==i][['flover','date']].groupby('date').count()\n",
    "    observation = observation.fillna(0)\n",
    "    return observation"
   ]
  },
  {
   "cell_type": "code",
   "execution_count": 189,
   "metadata": {
    "collapsed": true
   },
   "outputs": [],
   "source": [
    "training_data = transform(df_train).resample('W').sum()\n",
    "validation_data = transform(df_validation).resample('W').sum()\n",
    "validation_data = validation_data[training_data.columns] # filter some flavors not show in the training data"
   ]
  },
  {
   "cell_type": "code",
   "execution_count": 190,
   "metadata": {
    "collapsed": true
   },
   "outputs": [],
   "source": [
    "X_train = np.hstack([training_data,training_data.shift(1),training_data.shift(2)])[3:]\n",
    "Y_train = np.array(training_data)[3:]\n",
    "X_val = np.hstack([validation_data,validation_data.shift(1),validation_data.shift(2)])[3:]\n",
    "Y_val = np.array(validation_data)[3:]"
   ]
  },
  {
   "cell_type": "code",
   "execution_count": 191,
   "metadata": {},
   "outputs": [
    {
     "name": "stdout",
     "output_type": "stream",
     "text": [
      "(19, 60) (19, 20) (6, 60) (6, 20)\n"
     ]
    }
   ],
   "source": [
    "print(X_train.shape,Y_train.shape,X_val.shape,Y_val.shape)"
   ]
  },
  {
   "cell_type": "code",
   "execution_count": 623,
   "metadata": {
    "collapsed": true
   },
   "outputs": [],
   "source": [
    "def loss(y,y_):\n",
    "    y_[y_<0] = 0\n",
    "    return np.mean(np.sum(np.power((y-y_),2),axis=1))"
   ]
  },
  {
   "cell_type": "markdown",
   "metadata": {},
   "source": [
    "# 0.全部预测为0"
   ]
  },
  {
   "cell_type": "code",
   "execution_count": 624,
   "metadata": {},
   "outputs": [
    {
     "data": {
      "text/plain": [
       "6978.0"
      ]
     },
     "execution_count": 624,
     "metadata": {},
     "output_type": "execute_result"
    }
   ],
   "source": [
    "loss(Y_val,Y_val*0)"
   ]
  },
  {
   "cell_type": "markdown",
   "metadata": {},
   "source": [
    "# 1.原始方法 - 直接用前星期预测"
   ]
  },
  {
   "cell_type": "code",
   "execution_count": 625,
   "metadata": {
    "collapsed": true
   },
   "outputs": [],
   "source": [
    "predict_original_method_y = np.array(validation_data)[2:-1]"
   ]
  },
  {
   "cell_type": "code",
   "execution_count": 626,
   "metadata": {},
   "outputs": [
    {
     "data": {
      "text/plain": [
       "2602.6666666666665"
      ]
     },
     "execution_count": 626,
     "metadata": {},
     "output_type": "execute_result"
    }
   ],
   "source": [
    "loss(Y_val,predict_original_method_y)"
   ]
  },
  {
   "cell_type": "markdown",
   "metadata": {},
   "source": [
    "# 2.相关系数法（限制） + 直接前星期预测"
   ]
  },
  {
   "cell_type": "code",
   "execution_count": 627,
   "metadata": {
    "collapsed": true
   },
   "outputs": [],
   "source": [
    "corr = np.corrcoef(training_data.T)\n",
    "corr = corr / corr.sum(axis=1).reshape(-1,1) #rescale\n",
    "corr[corr<0] = 0"
   ]
  },
  {
   "cell_type": "code",
   "execution_count": 628,
   "metadata": {
    "collapsed": true
   },
   "outputs": [],
   "source": [
    "predict_original_method_y = np.array(validation_data)[2:-1]"
   ]
  },
  {
   "cell_type": "code",
   "execution_count": 629,
   "metadata": {
    "collapsed": true
   },
   "outputs": [],
   "source": [
    "predict_corrcorf_y =  np.matmul(predict_original_method_y,corr)"
   ]
  },
  {
   "cell_type": "code",
   "execution_count": 630,
   "metadata": {},
   "outputs": [
    {
     "name": "stdout",
     "output_type": "stream",
     "text": [
      "0.0 2602.66666667\n",
      "0.1 2478.9643555\n",
      "0.2 2399.61891505\n",
      "0.3 2364.63034531\n",
      "0.4 2373.99864628\n",
      "0.5 2427.72381797\n",
      "0.6 2525.80586037\n",
      "0.7 2668.24477348\n",
      "0.8 2855.04055731\n",
      "0.9 3086.19321185\n",
      "1.0 3361.7027371\n"
     ]
    }
   ],
   "source": [
    "for i in [x/10 for x in range(11)]:\n",
    "    print(i,loss(Y_val,(i*predict_corrcorf_y+(1-i)*predict_original_method_y)) )"
   ]
  },
  {
   "cell_type": "code",
   "execution_count": 631,
   "metadata": {},
   "outputs": [
    {
     "data": {
      "text/plain": [
       "2364.6303453061068"
      ]
     },
     "execution_count": 631,
     "metadata": {},
     "output_type": "execute_result"
    }
   ],
   "source": [
    "loss(Y_val,0.3*predict_corrcorf_y+0.7*predict_original_method_y)"
   ]
  },
  {
   "cell_type": "markdown",
   "metadata": {},
   "source": [
    "# Feedforward neural network (前馈神经网络)\n",
    "受限制(with Dropout and kernel_regularizer)"
   ]
  },
  {
   "cell_type": "code",
   "execution_count": 1039,
   "metadata": {
    "collapsed": true
   },
   "outputs": [],
   "source": [
    "import keras\n",
    "from keras.models import Sequential\n",
    "from keras.layers import Dense,Activation\n",
    "from keras import regularizers\n",
    "from keras.layers import Dropout"
   ]
  },
  {
   "cell_type": "code",
   "execution_count": 1040,
   "metadata": {
    "collapsed": true
   },
   "outputs": [],
   "source": [
    "model = Sequential()\n",
    "model.add(Dense(128,activation='relu',input_shape=(60,),kernel_regularizer=regularizers.l1(0.2)))\n",
    "model.add(Dropout(0.2))\n",
    "model.add(Dense(64,activation='relu',))\n",
    "model.add(Dense(20))"
   ]
  },
  {
   "cell_type": "code",
   "execution_count": 1041,
   "metadata": {
    "collapsed": true
   },
   "outputs": [],
   "source": [
    "model.compile(loss='mse',optimizer='adam')"
   ]
  },
  {
   "cell_type": "code",
   "execution_count": 1042,
   "metadata": {
    "scrolled": true
   },
   "outputs": [
    {
     "name": "stdout",
     "output_type": "stream",
     "text": [
      "Train on 19 samples, validate on 6 samples\n",
      "Epoch 1/200\n",
      "19/19 [==============================] - 2s 91ms/step - loss: 234.1784 - val_loss: 649.4866\n",
      "Epoch 2/200\n",
      "19/19 [==============================] - 0s 264us/step - loss: 224.9306 - val_loss: 607.7408\n",
      "Epoch 3/200\n",
      "19/19 [==============================] - 0s 264us/step - loss: 216.6570 - val_loss: 569.7876\n",
      "Epoch 4/200\n",
      "19/19 [==============================] - 0s 264us/step - loss: 210.2561 - val_loss: 535.7343\n",
      "Epoch 5/200\n",
      "19/19 [==============================] - 0s 237us/step - loss: 205.7850 - val_loss: 505.5304\n",
      "Epoch 6/200\n",
      "19/19 [==============================] - 0s 264us/step - loss: 198.1157 - val_loss: 479.5704\n",
      "Epoch 7/200\n",
      "19/19 [==============================] - 0s 237us/step - loss: 195.1755 - val_loss: 455.3203\n",
      "Epoch 8/200\n",
      "19/19 [==============================] - 0s 343us/step - loss: 189.3064 - val_loss: 434.2155\n",
      "Epoch 9/200\n",
      "19/19 [==============================] - 0s 264us/step - loss: 185.2740 - val_loss: 414.6677\n",
      "Epoch 10/200\n",
      "19/19 [==============================] - 0s 264us/step - loss: 181.0518 - val_loss: 397.5337\n",
      "Epoch 11/200\n",
      "19/19 [==============================] - 0s 264us/step - loss: 175.7788 - val_loss: 382.1212\n",
      "Epoch 12/200\n",
      "19/19 [==============================] - 0s 264us/step - loss: 175.1922 - val_loss: 367.7781\n",
      "Epoch 13/200\n",
      "19/19 [==============================] - 0s 237us/step - loss: 171.2007 - val_loss: 354.9203\n",
      "Epoch 14/200\n",
      "19/19 [==============================] - 0s 264us/step - loss: 166.3205 - val_loss: 343.9334\n",
      "Epoch 15/200\n",
      "19/19 [==============================] - 0s 264us/step - loss: 167.8880 - val_loss: 333.5922\n",
      "Epoch 16/200\n",
      "19/19 [==============================] - 0s 343us/step - loss: 163.8438 - val_loss: 324.3891\n",
      "Epoch 17/200\n",
      "19/19 [==============================] - 0s 237us/step - loss: 161.1725 - val_loss: 316.1404\n",
      "Epoch 18/200\n",
      "19/19 [==============================] - 0s 264us/step - loss: 157.9489 - val_loss: 308.3384\n",
      "Epoch 19/200\n",
      "19/19 [==============================] - 0s 317us/step - loss: 156.3952 - val_loss: 301.3647\n",
      "Epoch 20/200\n",
      "19/19 [==============================] - 0s 264us/step - loss: 154.1926 - val_loss: 295.1464\n",
      "Epoch 21/200\n",
      "19/19 [==============================] - 0s 237us/step - loss: 151.9595 - val_loss: 288.7458\n",
      "Epoch 22/200\n",
      "19/19 [==============================] - 0s 264us/step - loss: 151.8034 - val_loss: 282.3066\n",
      "Epoch 23/200\n",
      "19/19 [==============================] - 0s 290us/step - loss: 147.3948 - val_loss: 276.4356\n",
      "Epoch 24/200\n",
      "19/19 [==============================] - 0s 237us/step - loss: 145.4213 - val_loss: 271.2293\n",
      "Epoch 25/200\n",
      "19/19 [==============================] - 0s 237us/step - loss: 145.3084 - val_loss: 267.0778\n",
      "Epoch 26/200\n",
      "19/19 [==============================] - 0s 211us/step - loss: 140.3891 - val_loss: 263.5585\n",
      "Epoch 27/200\n",
      "19/19 [==============================] - 0s 237us/step - loss: 138.3558 - val_loss: 260.7577\n",
      "Epoch 28/200\n",
      "19/19 [==============================] - 0s 290us/step - loss: 138.6316 - val_loss: 258.3348\n",
      "Epoch 29/200\n",
      "19/19 [==============================] - 0s 237us/step - loss: 136.2364 - val_loss: 255.7793\n",
      "Epoch 30/200\n",
      "19/19 [==============================] - 0s 264us/step - loss: 133.5043 - val_loss: 252.9050\n",
      "Epoch 31/200\n",
      "19/19 [==============================] - 0s 264us/step - loss: 131.4248 - val_loss: 249.9940\n",
      "Epoch 32/200\n",
      "19/19 [==============================] - 0s 264us/step - loss: 129.6990 - val_loss: 247.4785\n",
      "Epoch 33/200\n",
      "19/19 [==============================] - 0s 290us/step - loss: 128.6339 - val_loss: 245.0119\n",
      "Epoch 34/200\n",
      "19/19 [==============================] - 0s 264us/step - loss: 125.4118 - val_loss: 242.2140\n",
      "Epoch 35/200\n",
      "19/19 [==============================] - 0s 264us/step - loss: 124.2314 - val_loss: 239.6407\n",
      "Epoch 36/200\n",
      "19/19 [==============================] - 0s 264us/step - loss: 124.5603 - val_loss: 237.4256\n",
      "Epoch 37/200\n",
      "19/19 [==============================] - 0s 264us/step - loss: 123.3852 - val_loss: 235.4953\n",
      "Epoch 38/200\n",
      "19/19 [==============================] - 0s 264us/step - loss: 119.7526 - val_loss: 233.8564\n",
      "Epoch 39/200\n",
      "19/19 [==============================] - 0s 264us/step - loss: 117.0013 - val_loss: 232.5321\n",
      "Epoch 40/200\n",
      "19/19 [==============================] - 0s 264us/step - loss: 116.8612 - val_loss: 231.1297\n",
      "Epoch 41/200\n",
      "19/19 [==============================] - 0s 264us/step - loss: 116.0334 - val_loss: 229.9541\n",
      "Epoch 42/200\n",
      "19/19 [==============================] - 0s 264us/step - loss: 116.0105 - val_loss: 228.9482\n",
      "Epoch 43/200\n",
      "19/19 [==============================] - 0s 264us/step - loss: 112.7648 - val_loss: 228.6487\n",
      "Epoch 44/200\n",
      "19/19 [==============================] - 0s 264us/step - loss: 110.3490 - val_loss: 228.4771\n",
      "Epoch 45/200\n",
      "19/19 [==============================] - 0s 317us/step - loss: 109.2909 - val_loss: 228.7669\n",
      "Epoch 46/200\n",
      "19/19 [==============================] - 0s 290us/step - loss: 109.7564 - val_loss: 228.9683\n",
      "Epoch 47/200\n",
      "19/19 [==============================] - 0s 264us/step - loss: 106.7817 - val_loss: 229.8406\n",
      "Epoch 48/200\n",
      "19/19 [==============================] - 0s 264us/step - loss: 105.7871 - val_loss: 231.0445\n",
      "Epoch 49/200\n",
      "19/19 [==============================] - 0s 264us/step - loss: 104.2292 - val_loss: 232.8640\n",
      "Epoch 50/200\n",
      "19/19 [==============================] - 0s 237us/step - loss: 104.3520 - val_loss: 233.6578\n",
      "Epoch 51/200\n",
      "19/19 [==============================] - 0s 290us/step - loss: 102.7023 - val_loss: 232.8865\n",
      "Epoch 52/200\n",
      "19/19 [==============================] - 0s 264us/step - loss: 102.0810 - val_loss: 231.1985\n",
      "Epoch 53/200\n",
      "19/19 [==============================] - 0s 290us/step - loss: 99.9798 - val_loss: 228.1830\n",
      "Epoch 54/200\n",
      "19/19 [==============================] - 0s 264us/step - loss: 98.4770 - val_loss: 224.9085\n",
      "Epoch 55/200\n",
      "19/19 [==============================] - 0s 264us/step - loss: 97.3817 - val_loss: 222.1145\n",
      "Epoch 56/200\n",
      "19/19 [==============================] - 0s 290us/step - loss: 97.7423 - val_loss: 219.9482\n",
      "Epoch 57/200\n",
      "19/19 [==============================] - 0s 237us/step - loss: 96.1235 - val_loss: 217.4298\n",
      "Epoch 58/200\n",
      "19/19 [==============================] - 0s 317us/step - loss: 94.0091 - val_loss: 214.8319\n",
      "Epoch 59/200\n",
      "19/19 [==============================] - 0s 290us/step - loss: 93.5226 - val_loss: 212.4257\n",
      "Epoch 60/200\n",
      "19/19 [==============================] - 0s 264us/step - loss: 92.3385 - val_loss: 210.5137\n",
      "Epoch 61/200\n",
      "19/19 [==============================] - 0s 264us/step - loss: 91.4828 - val_loss: 208.9189\n",
      "Epoch 62/200\n",
      "19/19 [==============================] - 0s 290us/step - loss: 90.4279 - val_loss: 206.7925\n",
      "Epoch 63/200\n",
      "19/19 [==============================] - 0s 290us/step - loss: 88.4804 - val_loss: 204.5322\n",
      "Epoch 64/200\n",
      "19/19 [==============================] - 0s 290us/step - loss: 86.5061 - val_loss: 203.5451\n",
      "Epoch 65/200\n",
      "19/19 [==============================] - 0s 264us/step - loss: 86.0503 - val_loss: 202.4648\n",
      "Epoch 66/200\n",
      "19/19 [==============================] - 0s 237us/step - loss: 85.8794 - val_loss: 202.0006\n",
      "Epoch 67/200\n",
      "19/19 [==============================] - 0s 317us/step - loss: 85.9594 - val_loss: 201.6635\n",
      "Epoch 68/200\n",
      "19/19 [==============================] - 0s 264us/step - loss: 82.8666 - val_loss: 201.0230\n",
      "Epoch 69/200\n",
      "19/19 [==============================] - 0s 237us/step - loss: 83.3177 - val_loss: 199.9279\n",
      "Epoch 70/200\n",
      "19/19 [==============================] - 0s 317us/step - loss: 80.8835 - val_loss: 198.8611\n",
      "Epoch 71/200\n",
      "19/19 [==============================] - 0s 237us/step - loss: 80.8782 - val_loss: 197.3625\n",
      "Epoch 72/200\n",
      "19/19 [==============================] - 0s 264us/step - loss: 79.3424 - val_loss: 195.8600\n",
      "Epoch 73/200\n",
      "19/19 [==============================] - 0s 290us/step - loss: 78.6298 - val_loss: 193.8659\n",
      "Epoch 74/200\n",
      "19/19 [==============================] - 0s 264us/step - loss: 76.8896 - val_loss: 192.4267\n",
      "Epoch 75/200\n",
      "19/19 [==============================] - 0s 264us/step - loss: 77.2647 - val_loss: 191.2321\n",
      "Epoch 76/200\n",
      "19/19 [==============================] - 0s 264us/step - loss: 75.7517 - val_loss: 189.4227\n",
      "Epoch 77/200\n",
      "19/19 [==============================] - 0s 264us/step - loss: 75.0983 - val_loss: 188.1722\n",
      "Epoch 78/200\n",
      "19/19 [==============================] - 0s 369us/step - loss: 74.1144 - val_loss: 186.8822\n"
     ]
    },
    {
     "name": "stdout",
     "output_type": "stream",
     "text": [
      "Epoch 79/200\n",
      "19/19 [==============================] - 0s 264us/step - loss: 72.1872 - val_loss: 186.1306\n",
      "Epoch 80/200\n",
      "19/19 [==============================] - 0s 264us/step - loss: 70.9024 - val_loss: 185.5196\n",
      "Epoch 81/200\n",
      "19/19 [==============================] - 0s 290us/step - loss: 70.5209 - val_loss: 184.9162\n",
      "Epoch 82/200\n",
      "19/19 [==============================] - 0s 237us/step - loss: 69.7389 - val_loss: 184.6689\n",
      "Epoch 83/200\n",
      "19/19 [==============================] - 0s 264us/step - loss: 69.5734 - val_loss: 183.5669\n",
      "Epoch 84/200\n",
      "19/19 [==============================] - 0s 290us/step - loss: 69.2553 - val_loss: 181.6120\n",
      "Epoch 85/200\n",
      "19/19 [==============================] - 0s 317us/step - loss: 67.4254 - val_loss: 179.6416\n",
      "Epoch 86/200\n",
      "19/19 [==============================] - 0s 237us/step - loss: 66.8145 - val_loss: 177.3516\n",
      "Epoch 87/200\n",
      "19/19 [==============================] - 0s 290us/step - loss: 65.4839 - val_loss: 175.7347\n",
      "Epoch 88/200\n",
      "19/19 [==============================] - 0s 317us/step - loss: 65.6360 - val_loss: 174.4199\n",
      "Epoch 89/200\n",
      "19/19 [==============================] - 0s 264us/step - loss: 63.7948 - val_loss: 173.7215\n",
      "Epoch 90/200\n",
      "19/19 [==============================] - 0s 264us/step - loss: 64.1515 - val_loss: 172.8468\n",
      "Epoch 91/200\n",
      "19/19 [==============================] - 0s 264us/step - loss: 62.6375 - val_loss: 171.7235\n",
      "Epoch 92/200\n",
      "19/19 [==============================] - 0s 264us/step - loss: 61.4105 - val_loss: 170.6073\n",
      "Epoch 93/200\n",
      "19/19 [==============================] - 0s 317us/step - loss: 60.9636 - val_loss: 169.3799\n",
      "Epoch 94/200\n",
      "19/19 [==============================] - 0s 317us/step - loss: 59.9252 - val_loss: 167.6766\n",
      "Epoch 95/200\n",
      "19/19 [==============================] - 0s 290us/step - loss: 60.7515 - val_loss: 165.2456\n",
      "Epoch 96/200\n",
      "19/19 [==============================] - 0s 317us/step - loss: 59.8306 - val_loss: 163.0934\n",
      "Epoch 97/200\n",
      "19/19 [==============================] - 0s 264us/step - loss: 58.3929 - val_loss: 160.8248\n",
      "Epoch 98/200\n",
      "19/19 [==============================] - 0s 317us/step - loss: 56.9411 - val_loss: 159.9397\n",
      "Epoch 99/200\n",
      "19/19 [==============================] - 0s 317us/step - loss: 56.3792 - val_loss: 159.3825\n",
      "Epoch 100/200\n",
      "19/19 [==============================] - 0s 290us/step - loss: 54.8446 - val_loss: 159.1930\n",
      "Epoch 101/200\n",
      "19/19 [==============================] - 0s 290us/step - loss: 55.8719 - val_loss: 158.0340\n",
      "Epoch 102/200\n",
      "19/19 [==============================] - 0s 264us/step - loss: 54.0207 - val_loss: 156.7104\n",
      "Epoch 103/200\n",
      "19/19 [==============================] - 0s 264us/step - loss: 53.8108 - val_loss: 154.6593\n",
      "Epoch 104/200\n",
      "19/19 [==============================] - 0s 264us/step - loss: 52.4060 - val_loss: 153.4126\n",
      "Epoch 105/200\n",
      "19/19 [==============================] - 0s 290us/step - loss: 52.0832 - val_loss: 152.0231\n",
      "Epoch 106/200\n",
      "19/19 [==============================] - 0s 290us/step - loss: 51.6045 - val_loss: 150.3924\n",
      "Epoch 107/200\n",
      "19/19 [==============================] - 0s 290us/step - loss: 50.1382 - val_loss: 149.0208\n",
      "Epoch 108/200\n",
      "19/19 [==============================] - 0s 264us/step - loss: 50.2900 - val_loss: 147.8351\n",
      "Epoch 109/200\n",
      "19/19 [==============================] - 0s 237us/step - loss: 49.4114 - val_loss: 147.1377\n",
      "Epoch 110/200\n",
      "19/19 [==============================] - 0s 317us/step - loss: 48.7957 - val_loss: 146.3652\n",
      "Epoch 111/200\n",
      "19/19 [==============================] - 0s 317us/step - loss: 47.7407 - val_loss: 145.4177\n",
      "Epoch 112/200\n",
      "19/19 [==============================] - 0s 290us/step - loss: 47.2301 - val_loss: 144.9735\n",
      "Epoch 113/200\n",
      "19/19 [==============================] - 0s 264us/step - loss: 45.9408 - val_loss: 144.7131\n",
      "Epoch 114/200\n",
      "19/19 [==============================] - 0s 264us/step - loss: 45.8493 - val_loss: 144.3287\n",
      "Epoch 115/200\n",
      "19/19 [==============================] - 0s 290us/step - loss: 46.3232 - val_loss: 142.4565\n",
      "Epoch 116/200\n",
      "19/19 [==============================] - 0s 317us/step - loss: 45.5700 - val_loss: 140.3637\n",
      "Epoch 117/200\n",
      "19/19 [==============================] - 0s 264us/step - loss: 43.9539 - val_loss: 138.5631\n",
      "Epoch 118/200\n",
      "19/19 [==============================] - 0s 343us/step - loss: 43.1968 - val_loss: 136.6220\n",
      "Epoch 119/200\n",
      "19/19 [==============================] - 0s 264us/step - loss: 42.6387 - val_loss: 134.6080\n",
      "Epoch 120/200\n",
      "19/19 [==============================] - 0s 290us/step - loss: 41.7276 - val_loss: 132.9030\n",
      "Epoch 121/200\n",
      "19/19 [==============================] - 0s 317us/step - loss: 41.5248 - val_loss: 131.7950\n",
      "Epoch 122/200\n",
      "19/19 [==============================] - 0s 264us/step - loss: 41.4798 - val_loss: 131.3607\n",
      "Epoch 123/200\n",
      "19/19 [==============================] - 0s 317us/step - loss: 40.6472 - val_loss: 131.3327\n",
      "Epoch 124/200\n",
      "19/19 [==============================] - 0s 290us/step - loss: 40.7502 - val_loss: 131.0355\n",
      "Epoch 125/200\n",
      "19/19 [==============================] - 0s 237us/step - loss: 39.8366 - val_loss: 130.8279\n",
      "Epoch 126/200\n",
      "19/19 [==============================] - 0s 343us/step - loss: 39.9948 - val_loss: 130.1742\n",
      "Epoch 127/200\n",
      "19/19 [==============================] - 0s 264us/step - loss: 38.0284 - val_loss: 129.6442\n",
      "Epoch 128/200\n",
      "19/19 [==============================] - 0s 290us/step - loss: 37.7228 - val_loss: 129.3725\n",
      "Epoch 129/200\n",
      "19/19 [==============================] - 0s 317us/step - loss: 37.8198 - val_loss: 128.6965\n",
      "Epoch 130/200\n",
      "19/19 [==============================] - 0s 237us/step - loss: 37.2134 - val_loss: 127.6438\n",
      "Epoch 131/200\n",
      "19/19 [==============================] - 0s 343us/step - loss: 37.8581 - val_loss: 126.1676\n",
      "Epoch 132/200\n",
      "19/19 [==============================] - 0s 264us/step - loss: 36.5331 - val_loss: 124.8223\n",
      "Epoch 133/200\n",
      "19/19 [==============================] - 0s 317us/step - loss: 35.0292 - val_loss: 123.4317\n",
      "Epoch 134/200\n",
      "19/19 [==============================] - 0s 264us/step - loss: 34.8290 - val_loss: 122.3571\n",
      "Epoch 135/200\n",
      "19/19 [==============================] - 0s 290us/step - loss: 34.7890 - val_loss: 121.1952\n",
      "Epoch 136/200\n",
      "19/19 [==============================] - 0s 264us/step - loss: 34.1857 - val_loss: 120.2689\n",
      "Epoch 137/200\n",
      "19/19 [==============================] - 0s 317us/step - loss: 34.4971 - val_loss: 119.4721\n",
      "Epoch 138/200\n",
      "19/19 [==============================] - 0s 264us/step - loss: 32.5003 - val_loss: 119.1369\n",
      "Epoch 139/200\n",
      "19/19 [==============================] - 0s 237us/step - loss: 32.5846 - val_loss: 118.6355\n",
      "Epoch 140/200\n",
      "19/19 [==============================] - 0s 264us/step - loss: 31.7961 - val_loss: 118.3738\n",
      "Epoch 141/200\n",
      "19/19 [==============================] - 0s 290us/step - loss: 31.7344 - val_loss: 118.3618\n",
      "Epoch 142/200\n",
      "19/19 [==============================] - 0s 290us/step - loss: 32.3720 - val_loss: 117.6185\n",
      "Epoch 143/200\n",
      "19/19 [==============================] - 0s 237us/step - loss: 31.1581 - val_loss: 116.3659\n",
      "Epoch 144/200\n",
      "19/19 [==============================] - 0s 238us/step - loss: 30.0711 - val_loss: 115.3789\n",
      "Epoch 145/200\n",
      "19/19 [==============================] - 0s 369us/step - loss: 31.4745 - val_loss: 114.2305\n",
      "Epoch 146/200\n",
      "19/19 [==============================] - 0s 290us/step - loss: 29.6888 - val_loss: 113.7176\n",
      "Epoch 147/200\n",
      "19/19 [==============================] - 0s 290us/step - loss: 29.0341 - val_loss: 113.9286\n",
      "Epoch 148/200\n",
      "19/19 [==============================] - 0s 264us/step - loss: 28.5677 - val_loss: 113.8148\n",
      "Epoch 149/200\n",
      "19/19 [==============================] - 0s 317us/step - loss: 28.6165 - val_loss: 113.3768\n",
      "Epoch 150/200\n",
      "19/19 [==============================] - 0s 264us/step - loss: 28.0093 - val_loss: 112.8978\n",
      "Epoch 151/200\n",
      "19/19 [==============================] - 0s 264us/step - loss: 27.8682 - val_loss: 112.8313\n",
      "Epoch 152/200\n",
      "19/19 [==============================] - 0s 317us/step - loss: 27.5907 - val_loss: 112.8091\n",
      "Epoch 153/200\n",
      "19/19 [==============================] - 0s 237us/step - loss: 27.9586 - val_loss: 111.2085\n",
      "Epoch 154/200\n",
      "19/19 [==============================] - 0s 264us/step - loss: 26.4520 - val_loss: 109.1153\n",
      "Epoch 155/200\n",
      "19/19 [==============================] - 0s 264us/step - loss: 25.8694 - val_loss: 107.1000\n",
      "Epoch 156/200\n",
      "19/19 [==============================] - 0s 264us/step - loss: 25.8311 - val_loss: 105.3470\n"
     ]
    },
    {
     "name": "stdout",
     "output_type": "stream",
     "text": [
      "Epoch 157/200\n",
      "19/19 [==============================] - 0s 317us/step - loss: 26.0758 - val_loss: 104.6644\n",
      "Epoch 158/200\n",
      "19/19 [==============================] - 0s 264us/step - loss: 24.6815 - val_loss: 104.4217\n",
      "Epoch 159/200\n",
      "19/19 [==============================] - 0s 264us/step - loss: 24.8847 - val_loss: 104.3737\n",
      "Epoch 160/200\n",
      "19/19 [==============================] - 0s 290us/step - loss: 24.6927 - val_loss: 104.3197\n",
      "Epoch 161/200\n",
      "19/19 [==============================] - 0s 290us/step - loss: 24.6419 - val_loss: 104.6634\n",
      "Epoch 162/200\n",
      "19/19 [==============================] - 0s 264us/step - loss: 24.1369 - val_loss: 105.0563\n",
      "Epoch 163/200\n",
      "19/19 [==============================] - 0s 264us/step - loss: 23.9047 - val_loss: 105.0994\n",
      "Epoch 164/200\n",
      "19/19 [==============================] - 0s 290us/step - loss: 24.4421 - val_loss: 104.6847\n",
      "Epoch 165/200\n",
      "19/19 [==============================] - 0s 264us/step - loss: 23.6360 - val_loss: 103.8809\n",
      "Epoch 166/200\n",
      "19/19 [==============================] - 0s 317us/step - loss: 23.6122 - val_loss: 103.1601\n",
      "Epoch 167/200\n",
      "19/19 [==============================] - 0s 290us/step - loss: 23.5501 - val_loss: 102.1307\n",
      "Epoch 168/200\n",
      "19/19 [==============================] - 0s 237us/step - loss: 22.2378 - val_loss: 101.4151\n",
      "Epoch 169/200\n",
      "19/19 [==============================] - 0s 290us/step - loss: 22.5570 - val_loss: 100.7755\n",
      "Epoch 170/200\n",
      "19/19 [==============================] - 0s 290us/step - loss: 22.4225 - val_loss: 100.8619\n",
      "Epoch 171/200\n",
      "19/19 [==============================] - 0s 264us/step - loss: 21.4966 - val_loss: 101.2196\n",
      "Epoch 172/200\n",
      "19/19 [==============================] - 0s 290us/step - loss: 22.2151 - val_loss: 101.8121\n",
      "Epoch 173/200\n",
      "19/19 [==============================] - 0s 237us/step - loss: 21.2214 - val_loss: 102.9987\n",
      "Epoch 174/200\n",
      "19/19 [==============================] - 0s 264us/step - loss: 20.5656 - val_loss: 103.7263\n",
      "Epoch 175/200\n",
      "19/19 [==============================] - 0s 290us/step - loss: 20.6462 - val_loss: 104.1998\n",
      "Epoch 176/200\n",
      "19/19 [==============================] - 0s 237us/step - loss: 19.9827 - val_loss: 103.7167\n",
      "Epoch 177/200\n",
      "19/19 [==============================] - 0s 264us/step - loss: 20.6649 - val_loss: 102.8074\n",
      "Epoch 178/200\n",
      "19/19 [==============================] - 0s 317us/step - loss: 19.5571 - val_loss: 102.2667\n",
      "Epoch 179/200\n",
      "19/19 [==============================] - 0s 264us/step - loss: 19.7770 - val_loss: 101.4304\n",
      "Epoch 180/200\n",
      "19/19 [==============================] - 0s 290us/step - loss: 19.6516 - val_loss: 101.1990\n",
      "Epoch 181/200\n",
      "19/19 [==============================] - 0s 264us/step - loss: 19.2183 - val_loss: 100.8048\n",
      "Epoch 182/200\n",
      "19/19 [==============================] - 0s 237us/step - loss: 19.4352 - val_loss: 100.0228\n",
      "Epoch 183/200\n",
      "19/19 [==============================] - 0s 290us/step - loss: 19.5784 - val_loss: 98.8207\n",
      "Epoch 184/200\n",
      "19/19 [==============================] - 0s 264us/step - loss: 18.9288 - val_loss: 97.7156\n",
      "Epoch 185/200\n",
      "19/19 [==============================] - 0s 237us/step - loss: 18.4950 - val_loss: 97.0776\n",
      "Epoch 186/200\n",
      "19/19 [==============================] - 0s 343us/step - loss: 18.5827 - val_loss: 97.4168\n",
      "Epoch 187/200\n",
      "19/19 [==============================] - 0s 264us/step - loss: 18.2320 - val_loss: 97.7297\n",
      "Epoch 188/200\n",
      "19/19 [==============================] - 0s 264us/step - loss: 19.1758 - val_loss: 97.8507\n",
      "Epoch 189/200\n",
      "19/19 [==============================] - 0s 317us/step - loss: 18.4476 - val_loss: 97.9156\n",
      "Epoch 190/200\n",
      "19/19 [==============================] - 0s 237us/step - loss: 18.1616 - val_loss: 97.7296\n",
      "Epoch 191/200\n",
      "19/19 [==============================] - 0s 264us/step - loss: 17.5958 - val_loss: 97.9623\n",
      "Epoch 192/200\n",
      "19/19 [==============================] - 0s 290us/step - loss: 17.7997 - val_loss: 97.9279\n",
      "Epoch 193/200\n",
      "19/19 [==============================] - 0s 264us/step - loss: 17.0682 - val_loss: 98.5584\n",
      "Epoch 194/200\n",
      "19/19 [==============================] - 0s 290us/step - loss: 17.2162 - val_loss: 98.9225\n",
      "Epoch 195/200\n",
      "19/19 [==============================] - 0s 264us/step - loss: 16.8276 - val_loss: 98.6348\n",
      "Epoch 196/200\n",
      "19/19 [==============================] - 0s 264us/step - loss: 16.8855 - val_loss: 98.3780\n",
      "Epoch 197/200\n",
      "19/19 [==============================] - 0s 290us/step - loss: 17.2578 - val_loss: 97.5622\n",
      "Epoch 198/200\n",
      "19/19 [==============================] - 0s 264us/step - loss: 16.5909 - val_loss: 96.6320\n",
      "Epoch 199/200\n",
      "19/19 [==============================] - 0s 237us/step - loss: 16.8337 - val_loss: 95.0768\n",
      "Epoch 200/200\n",
      "19/19 [==============================] - 0s 290us/step - loss: 16.8708 - val_loss: 93.6477\n"
     ]
    },
    {
     "data": {
      "text/plain": [
       "<keras.callbacks.History at 0x25036265c50>"
      ]
     },
     "execution_count": 1042,
     "metadata": {},
     "output_type": "execute_result"
    }
   ],
   "source": [
    "model.fit(X_train,Y_train,epochs=200,validation_data=(X_val,Y_val))"
   ]
  },
  {
   "cell_type": "code",
   "execution_count": 1043,
   "metadata": {
    "collapsed": true
   },
   "outputs": [],
   "source": [
    "predict_y_nn = model.predict(X_val)"
   ]
  },
  {
   "cell_type": "code",
   "execution_count": 1044,
   "metadata": {},
   "outputs": [
    {
     "data": {
      "text/plain": [
       "1567.9391073081067"
      ]
     },
     "execution_count": 1044,
     "metadata": {},
     "output_type": "execute_result"
    }
   ],
   "source": [
    "loss(Y_val,predict_y_nn)"
   ]
  },
  {
   "cell_type": "markdown",
   "metadata": {},
   "source": [
    "# Lasso and Ridge Regression\n",
    "正则化线性回归"
   ]
  },
  {
   "cell_type": "code",
   "execution_count": 1140,
   "metadata": {
    "collapsed": true
   },
   "outputs": [],
   "source": [
    "from sklearn.linear_model import LinearRegression,Lasso,Ridge"
   ]
  },
  {
   "cell_type": "code",
   "execution_count": 1141,
   "metadata": {},
   "outputs": [
    {
     "data": {
      "text/plain": [
       "1066.0408133848439"
      ]
     },
     "execution_count": 1141,
     "metadata": {},
     "output_type": "execute_result"
    }
   ],
   "source": [
    "lr = LinearRegression() \n",
    "lr.fit(X_train,Y_train)\n",
    "predict_lr = lr.predict(X_val)\n",
    "loss(Y_val,predict_lr)"
   ]
  },
  {
   "cell_type": "code",
   "execution_count": 1142,
   "metadata": {},
   "outputs": [
    {
     "data": {
      "text/plain": [
       "1067.1164135086622"
      ]
     },
     "execution_count": 1142,
     "metadata": {},
     "output_type": "execute_result"
    }
   ],
   "source": [
    "lr = Ridge()\n",
    "lr.fit(X_train,Y_train)\n",
    "predict_lr = lr.predict(X_val)\n",
    "loss(Y_val,predict_lr)"
   ]
  },
  {
   "cell_type": "code",
   "execution_count": 1143,
   "metadata": {},
   "outputs": [
    {
     "data": {
      "text/plain": [
       "607.04612909847378"
      ]
     },
     "execution_count": 1143,
     "metadata": {},
     "output_type": "execute_result"
    }
   ],
   "source": [
    "lr = Lasso()\n",
    "lr.fit(X_train,Y_train)\n",
    "predict_lr = lr.predict(X_val)\n",
    "loss(Y_val,predict_lr)"
   ]
  },
  {
   "cell_type": "markdown",
   "metadata": {},
   "source": [
    "# ElasticNet  *"
   ]
  },
  {
   "cell_type": "code",
   "execution_count": 1268,
   "metadata": {
    "collapsed": true
   },
   "outputs": [],
   "source": [
    "from sklearn.linear_model import ElasticNet"
   ]
  },
  {
   "cell_type": "code",
   "execution_count": 1293,
   "metadata": {},
   "outputs": [
    {
     "data": {
      "text/plain": [
       "577.92022822243246"
      ]
     },
     "execution_count": 1293,
     "metadata": {},
     "output_type": "execute_result"
    }
   ],
   "source": [
    "en = ElasticNet()\n",
    "en.fit(X_train,Y_train)\n",
    "predict_en = en.predict(X_val)\n",
    "loss(Y_val,predict_en)"
   ]
  },
  {
   "cell_type": "markdown",
   "metadata": {},
   "source": [
    "# 第二部分 其他的一些方法"
   ]
  },
  {
   "cell_type": "markdown",
   "metadata": {},
   "source": [
    "# SGDRegressor"
   ]
  },
  {
   "cell_type": "code",
   "execution_count": 1263,
   "metadata": {
    "collapsed": true
   },
   "outputs": [],
   "source": [
    "from sklearn.linear_model import SGDRegressor"
   ]
  },
  {
   "cell_type": "code",
   "execution_count": 1291,
   "metadata": {
    "collapsed": true
   },
   "outputs": [],
   "source": [
    "R = []\n",
    "for i in range(Y_train.shape[1]):\n",
    "    clf = SGDRegressor(max_iter=10000)\n",
    "    clf.fit(X_train,Y_train[:,i])\n",
    "    predict = clf.predict(X_val)\n",
    "    R.append(predict)"
   ]
  },
  {
   "cell_type": "code",
   "execution_count": 1292,
   "metadata": {},
   "outputs": [
    {
     "data": {
      "text/plain": [
       "3.6254428452827738e+25"
      ]
     },
     "execution_count": 1292,
     "metadata": {},
     "output_type": "execute_result"
    }
   ],
   "source": [
    "loss(Y_val,np.array(R).T)"
   ]
  },
  {
   "cell_type": "markdown",
   "metadata": {},
   "source": [
    "# SVR (Support Vector Regression)"
   ]
  },
  {
   "cell_type": "code",
   "execution_count": 1260,
   "metadata": {
    "collapsed": true
   },
   "outputs": [],
   "source": [
    "from sklearn.svm import SVR"
   ]
  },
  {
   "cell_type": "code",
   "execution_count": 1289,
   "metadata": {
    "collapsed": true
   },
   "outputs": [],
   "source": [
    "R = []\n",
    "for i in range(Y_train.shape[1]):\n",
    "    clf = SVR()\n",
    "    clf.fit(X_train,Y_train[:,i])\n",
    "    predict = clf.predict(X_val)\n",
    "    R.append(predict)"
   ]
  },
  {
   "cell_type": "code",
   "execution_count": 1290,
   "metadata": {},
   "outputs": [
    {
     "data": {
      "text/plain": [
       "5181.2590661118911"
      ]
     },
     "execution_count": 1290,
     "metadata": {},
     "output_type": "execute_result"
    }
   ],
   "source": [
    "loss(Y_val,np.array(R).T)"
   ]
  },
  {
   "cell_type": "markdown",
   "metadata": {},
   "source": [
    "# DecisionTreeRegressor"
   ]
  },
  {
   "cell_type": "code",
   "execution_count": 1288,
   "metadata": {},
   "outputs": [
    {
     "data": {
      "text/plain": [
       "3332.0"
      ]
     },
     "execution_count": 1288,
     "metadata": {},
     "output_type": "execute_result"
    }
   ],
   "source": [
    "from sklearn import tree\n",
    "clf = tree.DecisionTreeRegressor()\n",
    "clf.fit(X_train,Y_train)\n",
    "predict = clf.predict(X_val)\n",
    "loss(Y_val,predict)"
   ]
  },
  {
   "cell_type": "markdown",
   "metadata": {},
   "source": [
    "# AdaBoostRegressor"
   ]
  },
  {
   "cell_type": "code",
   "execution_count": 1296,
   "metadata": {
    "collapsed": true
   },
   "outputs": [],
   "source": [
    "from sklearn.ensemble import AdaBoostRegressor"
   ]
  },
  {
   "cell_type": "code",
   "execution_count": 1294,
   "metadata": {},
   "outputs": [
    {
     "data": {
      "text/plain": [
       "1873.5595049130764"
      ]
     },
     "execution_count": 1294,
     "metadata": {},
     "output_type": "execute_result"
    }
   ],
   "source": [
    "R = []\n",
    "for i in range(Y_train.shape[1]):\n",
    "    clf = AdaBoostRegressor()\n",
    "    clf.fit(X_train,Y_train[:,i])\n",
    "    predict = clf.predict(X_val)\n",
    "    R.append(predict)\n",
    "loss(Y_val,np.array(R).T)"
   ]
  },
  {
   "cell_type": "markdown",
   "metadata": {},
   "source": [
    "# GradientBoostingRegressor"
   ]
  },
  {
   "cell_type": "code",
   "execution_count": 1327,
   "metadata": {},
   "outputs": [
    {
     "data": {
      "text/plain": [
       "2038.0860138427759"
      ]
     },
     "execution_count": 1327,
     "metadata": {},
     "output_type": "execute_result"
    }
   ],
   "source": [
    "from sklearn.ensemble import GradientBoostingRegressor\n",
    "R = []\n",
    "for i in range(Y_train.shape[1]):\n",
    "    clf = GradientBoostingRegressor()\n",
    "    clf.fit(X_train,Y_train[:,i])\n",
    "    predict_gbr_y = clf.predict(X_val)\n",
    "    R.append(predict_gbr_y)\n",
    "loss(Y_val,np.array(R).T)"
   ]
  },
  {
   "cell_type": "markdown",
   "metadata": {},
   "source": [
    "# HuberRegressor"
   ]
  },
  {
   "cell_type": "code",
   "execution_count": 1321,
   "metadata": {},
   "outputs": [
    {
     "data": {
      "text/plain": [
       "1046.7509039807471"
      ]
     },
     "execution_count": 1321,
     "metadata": {},
     "output_type": "execute_result"
    }
   ],
   "source": [
    "from sklearn.linear_model import HuberRegressor\n",
    "R = []\n",
    "for i in range(Y_train.shape[1]):\n",
    "    clf = HuberRegressor()\n",
    "    clf.fit(X_train,Y_train[:,i])\n",
    "    predict_gbr_y = clf.predict(X_val)\n",
    "    R.append(predict_gbr_y)\n",
    "loss(Y_val,np.array(R).T)"
   ]
  },
  {
   "cell_type": "markdown",
   "metadata": {},
   "source": [
    "# PassiveAggressiveRegressor"
   ]
  },
  {
   "cell_type": "code",
   "execution_count": 1328,
   "metadata": {},
   "outputs": [
    {
     "name": "stderr",
     "output_type": "stream",
     "text": [
      "C:\\Users\\taita\\Anaconda3\\lib\\site-packages\\sklearn\\linear_model\\stochastic_gradient.py:84: FutureWarning: max_iter and tol parameters have been added in <class 'sklearn.linear_model.passive_aggressive.PassiveAggressiveRegressor'> in 0.19. If both are left unset, they default to max_iter=5 and tol=None. If tol is not None, max_iter defaults to max_iter=1000. From 0.21, default max_iter will be 1000, and default tol will be 1e-3.\n",
      "  \"and default tol will be 1e-3.\" % type(self), FutureWarning)\n"
     ]
    },
    {
     "data": {
      "text/plain": [
       "1436.5035542230487"
      ]
     },
     "execution_count": 1328,
     "metadata": {},
     "output_type": "execute_result"
    }
   ],
   "source": [
    "from sklearn.linear_model import PassiveAggressiveRegressor\n",
    "R = []\n",
    "for i in range(Y_train.shape[1]):\n",
    "    clf = PassiveAggressiveRegressor()\n",
    "    clf.fit(X_train,Y_train[:,i])\n",
    "    predict_gbr_y = clf.predict(X_val)\n",
    "    R.append(predict_gbr_y)\n",
    "loss(Y_val,np.array(R).T)"
   ]
  },
  {
   "cell_type": "markdown",
   "metadata": {},
   "source": [
    "# 附录\n",
    "模型选择"
   ]
  },
  {
   "cell_type": "code",
   "execution_count": 26,
   "metadata": {},
   "outputs": [
    {
     "data": {
      "image/png": "[encoded data removed]",
      "text/plain": [
       "<IPython.core.display.Image object>"
      ]
     },
     "execution_count": 26,
     "metadata": {},
     "output_type": "execute_result"
    }
   ],
   "source": [
    "from IPython.display import Image\n",
    "Image(\"modelselection.png\")"
   ]
  },
  {
   "cell_type": "code",
   "execution_count": 1073,
   "metadata": {
    "collapsed": true
   },
   "outputs": [],
   "source": [
    "# from IPython.display import Image\n",
    "# Image(\"modelselection.png\")"
   ]
  },
  {
   "cell_type": "code",
   "execution_count": null,
   "metadata": {
    "collapsed": true
   },
   "outputs": [],
   "source": []
  }
 ],
 "metadata": {
  "kernelspec": {
   "display_name": "Python 3",
   "language": "python",
   "name": "python3"
  },
  "language_info": {
   "codemirror_mode": {
    "name": "ipython",
    "version": 3
   },
   "file_extension": ".py",
   "mimetype": "text/x-python",
   "name": "python",
   "nbconvert_exporter": "python",
   "pygments_lexer": "ipython3",
   "version": "3.6.2"
  }
 },
 "nbformat": 4,
 "nbformat_minor": 2
}
