{
 "cells": [
  {
   "cell_type": "code",
   "execution_count": 120,
   "metadata": {
    "collapsed": true
   },
   "outputs": [],
   "source": [
    "import math\n",
    "import copy"
   ]
  },
  {
   "cell_type": "code",
   "execution_count": 148,
   "metadata": {
    "collapsed": true
   },
   "outputs": [],
   "source": [
    "# return element counts of none zero\n",
    "def count_nonezero(A):\n",
    "    c = 0\n",
    "    for i in A:\n",
    "        if i==True or i!=0:\n",
    "            c += 1\n",
    "    return c\n",
    "# return the dimension of a matrix or a tensor\n",
    "def dim(A):\n",
    "    assert(type(A)==list)\n",
    "    d = 0\n",
    "    B = A\n",
    "    while(type(B)==list and len(B)!=0):\n",
    "        d += 1\n",
    "        B = B[0]\n",
    "    return d\n",
    "# return the shape of a matrix or a tensor \n",
    "def shape(A):\n",
    "    assert(type(A)==list)\n",
    "    B = A\n",
    "    s = []\n",
    "    while(type(B)==list and len(B)!=0):\n",
    "        s.append(len(B))\n",
    "        B = B[0]\n",
    "    return tuple(s)\n",
    "# return a tensor of shape s fill with 0\n",
    "def zeros(s,dtype=float):\n",
    "    if type(s)==int:\n",
    "        return [0 for _ in range(s)]\n",
    "    elif type(s) == tuple and len(s)==1:\n",
    "        return [0 for _ in range(s[0])]\n",
    "    else:\n",
    "        import copy\n",
    "        r = zeros(s[1:],dtype=dtype)\n",
    "        R = []\n",
    "        for i in range(s[0]):\n",
    "            R.append(copy.deepcopy(r))\n",
    "    return R\n",
    "\n",
    "\n",
    "# ---------------------matrix function----------------------\n",
    "# columns slicing of matrix A\n",
    "def col(A,i):\n",
    "    assert(dim(A)==2)\n",
    "    m,n = shape(A)\n",
    "    return [A[k][i] for k in range(m)]\n",
    "\n",
    "\n",
    "# ---------------------vector funciton----------------------\n",
    "def mean(A):\n",
    "    assert(dim(A)==1)\n",
    "    length = len(A)\n",
    "    _sum = 0\n",
    "    for i in range(len(A)):\n",
    "        _sum+=A[i]\n",
    "    return _sum/float(length)\n",
    "def sqrt(A):\n",
    "    assert(dim(A)==1)\n",
    "    return [x **2 for x in A]\n",
    "def minus(A,B):\n",
    "    assert(dim(A)==1 and dim(B)==1 and shape(A)==shape(B))\n",
    "    return [A[i] - B[i] for i in range(len(A))]\n",
    "def plus(A,B):\n",
    "    assert(dim(A)==1 and dim(B)==1 and shape(A)==shape(B))\n",
    "    return [A[i] + B[i] for i in range(len(A))]\n",
    "def root(A):\n",
    "    assert(type(A)==list or type(A)==float or type(A)==int)\n",
    "    if type(A)==list:\n",
    "        assert(dim(A)==1)\n",
    "        return [math.pow(x,0.5) for x in A]\n",
    "    elif type(A)==float or type(A)==int :\n",
    "        assert(A>=0)\n",
    "        return math.pow(A,0.5)\n",
    "    assert(a>=0)\n",
    "def multiply(A,B):\n",
    "    assert(dim(A)==1 and dim(B)==1 and shape(A)==shape(B))\n",
    "    return [A[i] * B[i] for i in range(len(A))]\n",
    "# -------------------------end--------------------------------"
   ]
  },
  {
   "cell_type": "code",
   "execution_count": 123,
   "metadata": {},
   "outputs": [
    {
     "data": {
      "text/plain": [
       "4"
      ]
     },
     "execution_count": 123,
     "metadata": {},
     "output_type": "execute_result"
    }
   ],
   "source": [
    "count_nonezero([1,1,1,0,0,1,0])"
   ]
  },
  {
   "cell_type": "code",
   "execution_count": 124,
   "metadata": {},
   "outputs": [
    {
     "data": {
      "text/plain": [
       "5"
      ]
     },
     "execution_count": 124,
     "metadata": {},
     "output_type": "execute_result"
    }
   ],
   "source": [
    "count_nonezero([True,1,1,True,0,1,0])"
   ]
  },
  {
   "cell_type": "code",
   "execution_count": 125,
   "metadata": {},
   "outputs": [
    {
     "data": {
      "text/plain": [
       "3"
      ]
     },
     "execution_count": 125,
     "metadata": {},
     "output_type": "execute_result"
    }
   ],
   "source": [
    "dim([[[1,2]]])"
   ]
  },
  {
   "cell_type": "code",
   "execution_count": 126,
   "metadata": {},
   "outputs": [
    {
     "data": {
      "text/plain": [
       "(1, 3)"
      ]
     },
     "execution_count": 126,
     "metadata": {},
     "output_type": "execute_result"
    }
   ],
   "source": [
    "shape([[1,2,3]])"
   ]
  },
  {
   "cell_type": "code",
   "execution_count": 127,
   "metadata": {},
   "outputs": [
    {
     "data": {
      "text/plain": [
       "[[[0], [0], [0], [0]], [[0], [0], [0], [0]], [[0], [0], [0], [0]]]"
      ]
     },
     "execution_count": 127,
     "metadata": {},
     "output_type": "execute_result"
    }
   ],
   "source": [
    "zeros((3,4,1))"
   ]
  },
  {
   "cell_type": "code",
   "execution_count": 128,
   "metadata": {
    "collapsed": true
   },
   "outputs": [],
   "source": [
    "A = [[1,2,3],[4,5,6],[1.2,2.2,4.3]]"
   ]
  },
  {
   "cell_type": "code",
   "execution_count": 129,
   "metadata": {
    "collapsed": true
   },
   "outputs": [],
   "source": [
    "import numpy as np"
   ]
  },
  {
   "cell_type": "code",
   "execution_count": 130,
   "metadata": {},
   "outputs": [
    {
     "data": {
      "text/plain": [
       "array([  4.  ,  25.  ,   4.84])"
      ]
     },
     "execution_count": 130,
     "metadata": {},
     "output_type": "execute_result"
    }
   ],
   "source": [
    "np.power(col(A,1),2)"
   ]
  },
  {
   "cell_type": "code",
   "execution_count": 131,
   "metadata": {},
   "outputs": [
    {
     "data": {
      "text/plain": [
       "array([ 1.41421356,  2.23606798,  1.4832397 ])"
      ]
     },
     "execution_count": 131,
     "metadata": {},
     "output_type": "execute_result"
    }
   ],
   "source": [
    "np.sqrt(col(A,1))"
   ]
  },
  {
   "cell_type": "code",
   "execution_count": 132,
   "metadata": {},
   "outputs": [
    {
     "data": {
      "text/plain": [
       "[4, 25, 4.840000000000001]"
      ]
     },
     "execution_count": 132,
     "metadata": {},
     "output_type": "execute_result"
    }
   ],
   "source": [
    "sqrt(col(A,1))"
   ]
  },
  {
   "cell_type": "code",
   "execution_count": 133,
   "metadata": {},
   "outputs": [
    {
     "data": {
      "text/plain": [
       "array([ 2.23606798,  2.64575131,  3.        ])"
      ]
     },
     "execution_count": 133,
     "metadata": {},
     "output_type": "execute_result"
    }
   ],
   "source": [
    "np.sqrt(plus(A[1],A[0]))"
   ]
  },
  {
   "cell_type": "code",
   "execution_count": 134,
   "metadata": {},
   "outputs": [
    {
     "data": {
      "text/plain": [
       "[2.23606797749979, 2.6457513110645907, 3.0]"
      ]
     },
     "execution_count": 134,
     "metadata": {},
     "output_type": "execute_result"
    }
   ],
   "source": [
    "root(plus(A[1],A[0]))"
   ]
  },
  {
   "cell_type": "code",
   "execution_count": 135,
   "metadata": {
    "collapsed": true
   },
   "outputs": [],
   "source": [
    "A = [1,2,3]\n",
    "B = [0.9,5.2,1.4]"
   ]
  },
  {
   "cell_type": "code",
   "execution_count": 136,
   "metadata": {},
   "outputs": [
    {
     "data": {
      "text/plain": [
       "[0.9, 10.4, 4.199999999999999]"
      ]
     },
     "execution_count": 136,
     "metadata": {},
     "output_type": "execute_result"
    }
   ],
   "source": [
    "multiply(A,B)"
   ]
  },
  {
   "cell_type": "code",
   "execution_count": 137,
   "metadata": {},
   "outputs": [
    {
     "data": {
      "text/plain": [
       "array([  0.9,  10.4,   4.2])"
      ]
     },
     "execution_count": 137,
     "metadata": {},
     "output_type": "execute_result"
    }
   ],
   "source": [
    "np.array(A) * np.array(B)"
   ]
  },
  {
   "cell_type": "code",
   "execution_count": 138,
   "metadata": {
    "collapsed": true
   },
   "outputs": [],
   "source": [
    "import pandas as pd\n",
    "import numpy as np"
   ]
  },
  {
   "cell_type": "code",
   "execution_count": 139,
   "metadata": {
    "collapsed": true
   },
   "outputs": [],
   "source": [
    "def _corr(A,i,j):\n",
    "    assert(dim(A)==2)\n",
    "    m,n = shape(A)\n",
    "\n",
    "    X,Y = col(A,i),col(A,j)\n",
    "    mean_X,mean_Y = mean(X),mean(Y)\n",
    "    X_ = [k-mean_X for k in X]\n",
    "    Y_ = [k-mean_Y for k in Y]\n",
    "    numerator = mean(multiply(X_,Y_))\n",
    "    denominator = root(mean(squrt(X_)))*root(mean(squrt(Y_)))\n",
    "    r = (numerator)/(denominator)\n",
    "    return r"
   ]
  },
  {
   "cell_type": "code",
   "execution_count": 140,
   "metadata": {
    "collapsed": true
   },
   "outputs": [],
   "source": [
    "A = [[1,3,3],[4.2,6,7],[1.2,2.2,4.3]]"
   ]
  },
  {
   "cell_type": "code",
   "execution_count": 141,
   "metadata": {},
   "outputs": [
    {
     "data": {
      "text/plain": [
       "(3, 3)"
      ]
     },
     "execution_count": 141,
     "metadata": {},
     "output_type": "execute_result"
    }
   ],
   "source": [
    "shape(A)"
   ]
  },
  {
   "cell_type": "code",
   "execution_count": 142,
   "metadata": {},
   "outputs": [
    {
     "data": {
      "text/html": [
       "<div>\n",
       "<style>\n",
       "    .dataframe thead tr:only-child th {\n",
       "        text-align: right;\n",
       "    }\n",
       "\n",
       "    .dataframe thead th {\n",
       "        text-align: left;\n",
       "    }\n",
       "\n",
       "    .dataframe tbody tr th {\n",
       "        vertical-align: top;\n",
       "    }\n",
       "</style>\n",
       "<table border=\"1\" class=\"dataframe\">\n",
       "  <thead>\n",
       "    <tr style=\"text-align: right;\">\n",
       "      <th></th>\n",
       "      <th>0</th>\n",
       "      <th>1</th>\n",
       "      <th>2</th>\n",
       "    </tr>\n",
       "  </thead>\n",
       "  <tbody>\n",
       "    <tr>\n",
       "      <th>0</th>\n",
       "      <td>1.000000</td>\n",
       "      <td>0.967199</td>\n",
       "      <td>0.964197</td>\n",
       "    </tr>\n",
       "    <tr>\n",
       "      <th>1</th>\n",
       "      <td>0.967199</td>\n",
       "      <td>1.000000</td>\n",
       "      <td>0.865209</td>\n",
       "    </tr>\n",
       "    <tr>\n",
       "      <th>2</th>\n",
       "      <td>0.964197</td>\n",
       "      <td>0.865209</td>\n",
       "      <td>1.000000</td>\n",
       "    </tr>\n",
       "  </tbody>\n",
       "</table>\n",
       "</div>"
      ],
      "text/plain": [
       "          0         1         2\n",
       "0  1.000000  0.967199  0.964197\n",
       "1  0.967199  1.000000  0.865209\n",
       "2  0.964197  0.865209  1.000000"
      ]
     },
     "execution_count": 142,
     "metadata": {},
     "output_type": "execute_result"
    }
   ],
   "source": [
    "pd.DataFrame(A).corr()"
   ]
  },
  {
   "cell_type": "code",
   "execution_count": 143,
   "metadata": {},
   "outputs": [
    {
     "data": {
      "text/plain": [
       "0.9641973456196753"
      ]
     },
     "execution_count": 143,
     "metadata": {},
     "output_type": "execute_result"
    }
   ],
   "source": [
    "_corr(A,0,2)"
   ]
  },
  {
   "cell_type": "code",
   "execution_count": 149,
   "metadata": {
    "collapsed": true
   },
   "outputs": [],
   "source": [
    "def correlation(A):\n",
    "    assert(dim(A)==2)\n",
    "    m,n = shape(A)\n",
    "    global R\n",
    "    R = zeros((n,n))\n",
    "    for i in range(n):\n",
    "        for j in range(n):\n",
    "            if i==j:\n",
    "                R[i][j] = 1\n",
    "            elif i>j:\n",
    "                R[i][j] = R[j][i]\n",
    "            else:\n",
    "                R[i][j] = _corr(A,i,j)\n",
    "    return R"
   ]
  },
  {
   "cell_type": "code",
   "execution_count": 150,
   "metadata": {},
   "outputs": [
    {
     "data": {
      "text/plain": [
       "[[1, 0.9671992666259174, 0.9641973456196753],\n",
       " [0.9671992666259174, 1, 0.8652087866005586],\n",
       " [0.9641973456196753, 0.8652087866005586, 1]]"
      ]
     },
     "execution_count": 150,
     "metadata": {},
     "output_type": "execute_result"
    }
   ],
   "source": [
    "correlation(A)"
   ]
  },
  {
   "cell_type": "code",
   "execution_count": 151,
   "metadata": {},
   "outputs": [
    {
     "data": {
      "text/plain": [
       "1.0"
      ]
     },
     "execution_count": 151,
     "metadata": {},
     "output_type": "execute_result"
    }
   ],
   "source": [
    "_corr(A,2,2)"
   ]
  },
  {
   "cell_type": "code",
   "execution_count": 152,
   "metadata": {
    "collapsed": true
   },
   "outputs": [],
   "source": [
    "b = '14d'"
   ]
  },
  {
   "cell_type": "code",
   "execution_count": 155,
   "metadata": {},
   "outputs": [
    {
     "data": {
      "text/plain": [
       "'14'"
      ]
     },
     "execution_count": 155,
     "metadata": {},
     "output_type": "execute_result"
    }
   ],
   "source": [
    "b[:-1]"
   ]
  },
  {
   "cell_type": "code",
   "execution_count": 157,
   "metadata": {},
   "outputs": [
    {
     "data": {
      "text/plain": [
       "[1, 2, 3, 8, 6]"
      ]
     },
     "execution_count": 157,
     "metadata": {},
     "output_type": "execute_result"
    }
   ],
   "source": [
    "[1,2,3,8,6]"
   ]
  },
  {
   "cell_type": "code",
   "execution_count": 158,
   "metadata": {},
   "outputs": [
    {
     "data": {
      "text/plain": [
       "[1, 2, 3, 6, 8]"
      ]
     },
     "execution_count": 158,
     "metadata": {},
     "output_type": "execute_result"
    }
   ],
   "source": [
    "sorted([1,2,3,8,6])"
   ]
  },
  {
   "cell_type": "code",
   "execution_count": 160,
   "metadata": {},
   "outputs": [
    {
     "data": {
      "image/png": "[encoded data removed]",
      "text/plain": [
       "<matplotlib.figure.Figure at 0x24fc16c5d68>"
      ]
     },
     "metadata": {},
     "output_type": "display_data"
    }
   ],
   "source": [
    "from mpl_toolkits.mplot3d import Axes3D\n",
    "import matplotlib.pyplot as plt\n",
    "import numpy as np\n",
    "\n",
    "fig = plt.figure()\n",
    "ax = fig.add_subplot(111, projection='3d')\n",
    "for c, z in zip(['r', 'g', 'b', 'y'], [30, 20, 10, 0]):\n",
    "    xs = np.arange(20)\n",
    "    ys = np.random.rand(20)\n",
    "\n",
    "    # You can provide either a single color or an array. To demonstrate this,\n",
    "    # the first bar of each set will be colored cyan.\n",
    "    cs = [c] * len(xs)\n",
    "    cs[0] = 'c'\n",
    "    ax.bar(xs, ys, zs=z, zdir='y', color=cs, alpha=0.8)\n",
    "\n",
    "ax.set_xlabel('X')\n",
    "ax.set_ylabel('Y')\n",
    "ax.set_zlabel('Z')\n",
    "\n",
    "plt.show()"
   ]
  },
  {
   "cell_type": "code",
   "execution_count": null,
   "metadata": {
    "collapsed": true
   },
   "outputs": [],
   "source": []
  }
 ],
 "metadata": {
  "kernelspec": {
   "display_name": "Python 3",
   "language": "python",
   "name": "python3"
  },
  "language_info": {
   "codemirror_mode": {
    "name": "ipython",
    "version": 3
   },
   "file_extension": ".py",
   "mimetype": "text/x-python",
   "name": "python",
   "nbconvert_exporter": "python",
   "pygments_lexer": "ipython3",
   "version": "3.6.2"
  }
 },
 "nbformat": 4,
 "nbformat_minor": 2
}
