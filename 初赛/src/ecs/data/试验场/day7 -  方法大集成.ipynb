{
 "cells": [
  {
   "cell_type": "markdown",
   "metadata": {},
   "source": [
    "#  Experiment on Different Methods 方法大集成- day7"
   ]
  },
  {
   "cell_type": "code",
   "execution_count": 1,
   "metadata": {
    "collapsed": true
   },
   "outputs": [],
   "source": [
    "import numpy as np\n",
    "import pandas as pd\n",
    "import matplotlib.pyplot as plt"
   ]
  },
  {
   "cell_type": "code",
   "execution_count": 2,
   "metadata": {
    "collapsed": true
   },
   "outputs": [],
   "source": [
    "import tensorflow"
   ]
  },
  {
   "cell_type": "code",
   "execution_count": 3,
   "metadata": {
    "collapsed": true
   },
   "outputs": [],
   "source": [
    "def preprocessing(df):\n",
    "    df.columns = ['uuid','flover_raw','time']\n",
    "    df['time'] = pd.to_datetime(df['time'])\n",
    "    df['flover'] = df['flover_raw'].apply(lambda x:int(x[x.find('r')+1:]))\n",
    "    df['date'] = df['time'].apply(lambda x:pd.datetime.date(x))\n",
    "    ndf = df[['flover','time','date']]\n",
    "    ndf.index = df['time']\n",
    "    return ndf"
   ]
  },
  {
   "cell_type": "code",
   "execution_count": 4,
   "metadata": {
    "collapsed": true
   },
   "outputs": [],
   "source": [
    "list_of_files_train = ['data_2015_1.txt','data_2015_2.txt','data_2015_3.txt','data_2015_4.txt','data_2015_5.txt']\n",
    "list_of_files_validation = ['data_2015_12.txt','data_2016_1.txt']\n",
    "\n",
    "lists_of_dataframe_train = [pd.read_table('../'+list_of_files_train[i],header=None) for i in range(len(list_of_files_train))]\n",
    "lists_of_dataframe_validation = [pd.read_table('../'+list_of_files_validation[i],header=None) for i in range(len(list_of_files_validation))]"
   ]
  },
  {
   "cell_type": "code",
   "execution_count": 5,
   "metadata": {
    "collapsed": true
   },
   "outputs": [],
   "source": [
    "df_train = pd.concat(lists_of_dataframe_train,axis=0,ignore_index=True)\n",
    "df_validation = pd.concat(lists_of_dataframe_validation,axis=0,ignore_index=True)\n",
    "df_train = preprocessing(df_train)\n",
    "df_validation = preprocessing(df_validation)"
   ]
  },
  {
   "cell_type": "code",
   "execution_count": 6,
   "metadata": {
    "collapsed": true
   },
   "outputs": [],
   "source": [
    "def transform(df):\n",
    "    flavors_unique = np.sort(np.array(df['flover'].unique(),dtype=np.int))\n",
    "    start_date = df['date'][0]\n",
    "    end_date = df['date'][df.shape[0]-1]\n",
    "    observation = pd.DataFrame(index=pd.date_range(start_date,end_date),columns=flavors_unique).fillna(0)\n",
    "    for i in flavors_unique:\n",
    "        observation[i] = df[df['flover']==i][['flover','date']].groupby('date').count()\n",
    "    observation = observation.fillna(0)\n",
    "    return observation"
   ]
  },
  {
   "cell_type": "code",
   "execution_count": 7,
   "metadata": {
    "collapsed": true
   },
   "outputs": [],
   "source": [
    "training_data = transform(df_train).resample('W').sum()\n",
    "validation_data = transform(df_validation).resample('W').sum()\n",
    "validation_data = validation_data[training_data.columns] # filter some flavors not show in the training data"
   ]
  },
  {
   "cell_type": "code",
   "execution_count": 8,
   "metadata": {
    "collapsed": true
   },
   "outputs": [],
   "source": [
    "X_train = np.hstack([training_data,training_data.shift(1),training_data.shift(2)])[3:-1]\n",
    "Y_train = np.array(training_data)[4:]\n",
    "X_val = np.hstack([validation_data,validation_data.shift(1),validation_data.shift(2)])[3:-1]\n",
    "Y_val = np.array(validation_data)[4:]"
   ]
  },
  {
   "cell_type": "code",
   "execution_count": 9,
   "metadata": {},
   "outputs": [
    {
     "name": "stdout",
     "output_type": "stream",
     "text": [
      "(18, 60) (18, 20) (5, 60) (5, 20)\n"
     ]
    }
   ],
   "source": [
    "print(X_train.shape,Y_train.shape,X_val.shape,Y_val.shape)"
   ]
  },
  {
   "cell_type": "code",
   "execution_count": 12,
   "metadata": {
    "collapsed": true
   },
   "outputs": [],
   "source": [
    "def loss(y,y_):\n",
    "    y_[y_<0] = 0\n",
    "    return np.mean(np.sum(np.power((y-y_),2),axis=1))"
   ]
  },
  {
   "cell_type": "markdown",
   "metadata": {},
   "source": [
    "# 0.全部预测为0"
   ]
  },
  {
   "cell_type": "code",
   "execution_count": 13,
   "metadata": {},
   "outputs": [
    {
     "data": {
      "text/plain": [
       "5911.0"
      ]
     },
     "execution_count": 13,
     "metadata": {},
     "output_type": "execute_result"
    }
   ],
   "source": [
    "loss(Y_val,Y_val*0)"
   ]
  },
  {
   "cell_type": "markdown",
   "metadata": {},
   "source": [
    "# 1.原始方法 - 直接用前星期预测"
   ]
  },
  {
   "cell_type": "code",
   "execution_count": 14,
   "metadata": {
    "collapsed": true
   },
   "outputs": [],
   "source": [
    "predict_original_method_y = np.array(validation_data)[3:-1]"
   ]
  },
  {
   "cell_type": "code",
   "execution_count": 15,
   "metadata": {},
   "outputs": [
    {
     "data": {
      "text/plain": [
       "2337.4000000000001"
      ]
     },
     "execution_count": 15,
     "metadata": {},
     "output_type": "execute_result"
    }
   ],
   "source": [
    "loss(Y_val,predict_original_method_y)"
   ]
  },
  {
   "cell_type": "markdown",
   "metadata": {},
   "source": [
    "# 2.相关系数法（限制） + 直接前星期预测"
   ]
  },
  {
   "cell_type": "code",
   "execution_count": 16,
   "metadata": {
    "collapsed": true
   },
   "outputs": [],
   "source": [
    "corr = np.corrcoef(training_data.T)\n",
    "corr = corr / corr.sum(axis=1).reshape(-1,1) #rescale\n",
    "corr[corr<0] = 0"
   ]
  },
  {
   "cell_type": "code",
   "execution_count": 17,
   "metadata": {
    "collapsed": true
   },
   "outputs": [],
   "source": [
    "predict_original_method_y = np.array(validation_data)[3:-1]"
   ]
  },
  {
   "cell_type": "code",
   "execution_count": 18,
   "metadata": {
    "collapsed": true
   },
   "outputs": [],
   "source": [
    "predict_corrcorf_y =  np.matmul(predict_original_method_y,corr)"
   ]
  },
  {
   "cell_type": "code",
   "execution_count": 19,
   "metadata": {},
   "outputs": [
    {
     "data": {
      "text/plain": [
       "array([[ 29.,  57.,   1.,   7.,  23.,  10.,  18.,  59.,  35.,   1.,  11.,\n",
       "         35.,   1.,   4.,   5.,   6.,   0.,   0.,  33.,   0.],\n",
       "       [ 21.,  31.,   0.,   8.,  40.,   7.,   2.,  54.,  13.,   0.,   5.,\n",
       "         34.,   0.,   6.,   6.,   0.,   0.,   2.,   3.,   0.],\n",
       "       [ 12.,  18.,   3.,   6.,  27.,   1.,   2.,  51.,  15.,   4.,  32.,\n",
       "          2.,   1.,   6.,   1.,   6.,   0.,   2.,   6.,   2.],\n",
       "       [ 24.,  45.,   1.,  14.,  21.,   1.,   2.,  37.,   9.,   1.,  13.,\n",
       "         15.,   1.,   7.,   1.,   7.,   0.,   1.,   8.,   1.],\n",
       "       [ 26.,  29.,  10.,   7.,  30.,   8.,   2.,  74.,  12.,   0.,  13.,\n",
       "         11.,  10.,   1.,   1.,   0.,   0.,   3.,   0.,   0.]])"
      ]
     },
     "execution_count": 19,
     "metadata": {},
     "output_type": "execute_result"
    }
   ],
   "source": [
    "predict_original_method_y"
   ]
  },
  {
   "cell_type": "code",
   "execution_count": 20,
   "metadata": {},
   "outputs": [
    {
     "data": {
      "text/plain": [
       "array([[ 37.28227843,  42.02649405,  10.86420223,  14.65646868,\n",
       "         39.63319345,  34.07674375,  43.73012182,  37.11193   ,\n",
       "         37.2362867 ,  11.06300321,  18.56267246,  21.92010786,\n",
       "          6.02215163,   9.18300715,  11.14755232,   9.97927471,\n",
       "         14.89301152,  12.28373422,  29.50089147,   4.71453651],\n",
       "       [ 25.39103951,  25.78242112,   9.39402618,  13.72119818,\n",
       "         31.85367193,  26.56165456,  17.21133372,  30.59706574,\n",
       "         23.74033457,   8.15975012,  13.51661509,  16.81771607,\n",
       "          4.60021281,   5.97227109,  11.87199256,   4.4780339 ,\n",
       "          5.38234021,  13.23067626,   5.61948568,   4.80849495],\n",
       "       [ 22.01104285,  19.219364  ,   8.44631986,  13.61039132,\n",
       "         24.25820695,  22.57335821,  13.51231054,  28.85335756,\n",
       "         17.61617133,  10.23120958,  20.7533085 ,  11.31220963,\n",
       "          7.2021359 ,  13.9312253 ,   3.44866435,   9.47779819,\n",
       "          3.44097656,   7.91596225,   6.27254454,  12.79738794],\n",
       "       [ 24.0061699 ,  27.92483071,   7.42654197,  13.62836279,\n",
       "         25.48100695,  22.10133146,  18.34487715,  25.35591908,\n",
       "         19.80286034,   7.48261366,  14.63221521,  11.88198097,\n",
       "          6.45376291,  13.65530044,   5.09740961,  11.70508252,\n",
       "          4.48429778,   7.87559062,   8.65650943,   8.8267902 ],\n",
       "       [ 29.5523126 ,  26.29801794,  13.86896019,  15.00614226,\n",
       "         34.14652037,  28.33211833,  15.00370797,  37.44176793,\n",
       "         23.03957837,  13.35866178,  18.03788191,   9.62006324,\n",
       "         10.24706573,   3.30543839,   5.16184093,   2.39290357,\n",
       "          2.25382113,  11.37712762,   3.00020902,   1.62679444]])"
      ]
     },
     "execution_count": 20,
     "metadata": {},
     "output_type": "execute_result"
    }
   ],
   "source": [
    "predict_corrcorf_y"
   ]
  },
  {
   "cell_type": "code",
   "execution_count": 21,
   "metadata": {},
   "outputs": [
    {
     "data": {
      "text/plain": [
       "array([[ 21.,  31.,   0.,   8.,  40.,   7.,   2.,  54.,  13.,   0.,   5.,\n",
       "         34.,   0.,   6.,   6.,   0.,   0.,   2.,   3.,   0.],\n",
       "       [ 12.,  18.,   3.,   6.,  27.,   1.,   2.,  51.,  15.,   4.,  32.,\n",
       "          2.,   1.,   6.,   1.,   6.,   0.,   2.,   6.,   2.],\n",
       "       [ 24.,  45.,   1.,  14.,  21.,   1.,   2.,  37.,   9.,   1.,  13.,\n",
       "         15.,   1.,   7.,   1.,   7.,   0.,   1.,   8.,   1.],\n",
       "       [ 26.,  29.,  10.,   7.,  30.,   8.,   2.,  74.,  12.,   0.,  13.,\n",
       "         11.,  10.,   1.,   1.,   0.,   0.,   3.,   0.,   0.],\n",
       "       [ 23.,  14.,   3.,  11.,  29.,   2.,   6.,  27.,  11.,   3.,  15.,\n",
       "          9.,   2.,   5.,   3.,   0.,   0.,   1.,   0.,   0.]])"
      ]
     },
     "execution_count": 21,
     "metadata": {},
     "output_type": "execute_result"
    }
   ],
   "source": [
    "Y_val"
   ]
  },
  {
   "cell_type": "code",
   "execution_count": 30,
   "metadata": {},
   "outputs": [
    {
     "name": "stdout",
     "output_type": "stream",
     "text": [
      "0.0 2352.4\n",
      "0.1 2126.86065975\n",
      "0.2 1967.5222864\n",
      "0.3 1874.38487996\n",
      "0.4 1847.44844042\n",
      "0.5 1886.71296779\n",
      "0.6 1992.17846207\n",
      "0.7 2163.84492324\n",
      "0.8 2401.71235133\n",
      "0.9 2705.78074632\n",
      "1.0 3076.05010821\n"
     ]
    }
   ],
   "source": [
    "for i in [x/10 for x in range(11)]:\n",
    "    print(i,loss(Y_val,(i*predict_corrcorf_y+(1-i)*B)) )"
   ]
  },
  {
   "cell_type": "code",
   "execution_count": 31,
   "metadata": {
    "collapsed": true
   },
   "outputs": [],
   "source": [
    "predict = (0.3*predict_corrcorf_y+0.7*predict_original_method_y)"
   ]
  },
  {
   "cell_type": "code",
   "execution_count": 32,
   "metadata": {},
   "outputs": [
    {
     "data": {
      "text/plain": [
       "2079.3931483447423"
      ]
     },
     "execution_count": 32,
     "metadata": {},
     "output_type": "execute_result"
    }
   ],
   "source": [
    "loss(Y_val,predict)"
   ]
  },
  {
   "cell_type": "code",
   "execution_count": 25,
   "metadata": {},
   "outputs": [
    {
     "data": {
      "text/plain": [
       "array([  317.83835758,  1622.38304884,   145.52453596,    98.18179005,\n",
       "         346.12355179,   434.10783264,   619.39904134,  3010.77645367,\n",
       "         580.14707606,    51.95820463,   910.5820428 ,   845.29702618,\n",
       "         129.30771144,    76.99159202,    49.04728764,   144.70530015,\n",
       "          25.90203009,    42.26295616,   914.70024447,    31.72965821])"
      ]
     },
     "execution_count": 25,
     "metadata": {},
     "output_type": "execute_result"
    }
   ],
   "source": [
    "np.sum((predict-Y_val)**2,axis=0)"
   ]
  },
  {
   "cell_type": "code",
   "execution_count": 26,
   "metadata": {
    "collapsed": true
   },
   "outputs": [],
   "source": [
    "D = np.array(validation_data)[0:-4]"
   ]
  },
  {
   "cell_type": "code",
   "execution_count": 27,
   "metadata": {
    "collapsed": true
   },
   "outputs": [],
   "source": [
    "C = np.array(validation_data)[1:-3]"
   ]
  },
  {
   "cell_type": "code",
   "execution_count": 28,
   "metadata": {
    "collapsed": true
   },
   "outputs": [],
   "source": [
    "B = np.array(validation_data)[2:-2]"
   ]
  },
  {
   "cell_type": "code",
   "execution_count": 29,
   "metadata": {
    "collapsed": true
   },
   "outputs": [],
   "source": [
    "A = np.array(validation_data)[3:-1]"
   ]
  },
  {
   "cell_type": "code",
   "execution_count": null,
   "metadata": {
    "collapsed": true
   },
   "outputs": [],
   "source": []
  },
  {
   "cell_type": "markdown",
   "metadata": {},
   "source": [
    "# Feedforward neural network (前馈神经网络)\n",
    "受限制(with Dropout and kernel_regularizer)"
   ]
  },
  {
   "cell_type": "code",
   "execution_count": 32,
   "metadata": {},
   "outputs": [
    {
     "name": "stderr",
     "output_type": "stream",
     "text": [
      "Using TensorFlow backend.\n"
     ]
    }
   ],
   "source": [
    "import keras\n",
    "from keras.models import Sequential\n",
    "from keras.layers import Dense,Activation\n",
    "from keras import regularizers\n",
    "from keras.layers import Dropout"
   ]
  },
  {
   "cell_type": "code",
   "execution_count": 33,
   "metadata": {
    "collapsed": true
   },
   "outputs": [],
   "source": [
    "model = Sequential()\n",
    "model.add(Dense(128,activation='relu',input_shape=(60,),kernel_regularizer=regularizers.l1(0.2)))\n",
    "model.add(Dropout(0.2))\n",
    "model.add(Dense(64,activation='relu',))\n",
    "model.add(Dense(20))"
   ]
  },
  {
   "cell_type": "code",
   "execution_count": 34,
   "metadata": {
    "collapsed": true
   },
   "outputs": [],
   "source": [
    "model.compile(loss='mse',optimizer='adam')"
   ]
  },
  {
   "cell_type": "code",
   "execution_count": 35,
   "metadata": {
    "scrolled": true
   },
   "outputs": [
    {
     "name": "stdout",
     "output_type": "stream",
     "text": [
      "Train on 18 samples, validate on 5 samples\n",
      "Epoch 1/200\n",
      "18/18 [==============================] - 1s 61ms/step - loss: 248.0385 - val_loss: 693.2174\n",
      "Epoch 2/200\n",
      "18/18 [==============================] - 0s 920us/step - loss: 236.3572 - val_loss: 637.0781\n",
      "Epoch 3/200\n",
      "18/18 [==============================] - 0s 167us/step - loss: 233.8793 - val_loss: 586.4728\n",
      "Epoch 4/200\n",
      "18/18 [==============================] - 0s 167us/step - loss: 220.9152 - val_loss: 542.6055\n",
      "Epoch 5/200\n",
      "18/18 [==============================] - 0s 223us/step - loss: 217.0384 - val_loss: 506.0338\n",
      "Epoch 6/200\n",
      "18/18 [==============================] - 0s 167us/step - loss: 206.7383 - val_loss: 474.6434\n",
      "Epoch 7/200\n",
      "18/18 [==============================] - 0s 167us/step - loss: 204.2150 - val_loss: 448.4474\n",
      "Epoch 8/200\n",
      "18/18 [==============================] - 0s 167us/step - loss: 197.3709 - val_loss: 425.7879\n",
      "Epoch 9/200\n",
      "18/18 [==============================] - 0s 223us/step - loss: 192.6265 - val_loss: 406.2632\n",
      "Epoch 10/200\n",
      "18/18 [==============================] - 0s 223us/step - loss: 189.5743 - val_loss: 389.3481\n",
      "Epoch 11/200\n",
      "18/18 [==============================] - 0s 167us/step - loss: 186.0062 - val_loss: 374.4061\n",
      "Epoch 12/200\n",
      "18/18 [==============================] - 0s 167us/step - loss: 179.6434 - val_loss: 361.2679\n",
      "Epoch 13/200\n",
      "18/18 [==============================] - 0s 223us/step - loss: 181.3158 - val_loss: 348.7034\n",
      "Epoch 14/200\n",
      "18/18 [==============================] - 0s 223us/step - loss: 177.6252 - val_loss: 336.6432\n",
      "Epoch 15/200\n",
      "18/18 [==============================] - 0s 167us/step - loss: 175.4785 - val_loss: 325.9735\n",
      "Epoch 16/200\n",
      "18/18 [==============================] - 0s 167us/step - loss: 170.8575 - val_loss: 315.9842\n",
      "Epoch 17/200\n",
      "18/18 [==============================] - 0s 223us/step - loss: 168.3536 - val_loss: 306.7782\n",
      "Epoch 18/200\n",
      "18/18 [==============================] - 0s 167us/step - loss: 164.7821 - val_loss: 298.7141\n",
      "Epoch 19/200\n",
      "18/18 [==============================] - 0s 167us/step - loss: 163.9007 - val_loss: 291.6617\n",
      "Epoch 20/200\n",
      "18/18 [==============================] - 0s 278us/step - loss: 160.5184 - val_loss: 284.9536\n",
      "Epoch 21/200\n",
      "18/18 [==============================] - 0s 223us/step - loss: 157.5411 - val_loss: 278.3385\n",
      "Epoch 22/200\n",
      "18/18 [==============================] - 0s 223us/step - loss: 156.7381 - val_loss: 272.3244\n",
      "Epoch 23/200\n",
      "18/18 [==============================] - 0s 223us/step - loss: 154.4159 - val_loss: 266.6916\n",
      "Epoch 24/200\n",
      "18/18 [==============================] - 0s 223us/step - loss: 149.9404 - val_loss: 261.1370\n",
      "Epoch 25/200\n",
      "18/18 [==============================] - 0s 167us/step - loss: 148.3806 - val_loss: 256.4437\n",
      "Epoch 26/200\n",
      "18/18 [==============================] - 0s 167us/step - loss: 149.0402 - val_loss: 252.2627\n",
      "Epoch 27/200\n",
      "18/18 [==============================] - 0s 223us/step - loss: 149.5308 - val_loss: 248.2994\n",
      "Epoch 28/200\n",
      "18/18 [==============================] - 0s 223us/step - loss: 144.5540 - val_loss: 244.5173\n",
      "Epoch 29/200\n",
      "18/18 [==============================] - 0s 223us/step - loss: 143.2204 - val_loss: 241.3321\n",
      "Epoch 30/200\n",
      "18/18 [==============================] - 0s 167us/step - loss: 142.4949 - val_loss: 238.7307\n",
      "Epoch 31/200\n",
      "18/18 [==============================] - 0s 223us/step - loss: 138.9191 - val_loss: 236.4247\n",
      "Epoch 32/200\n",
      "18/18 [==============================] - 0s 223us/step - loss: 136.7597 - val_loss: 234.7249\n",
      "Epoch 33/200\n",
      "18/18 [==============================] - 0s 223us/step - loss: 138.5257 - val_loss: 233.9409\n",
      "Epoch 34/200\n",
      "18/18 [==============================] - 0s 223us/step - loss: 135.0807 - val_loss: 233.4891\n",
      "Epoch 35/200\n",
      "18/18 [==============================] - 0s 167us/step - loss: 135.3425 - val_loss: 233.7296\n",
      "Epoch 36/200\n",
      "18/18 [==============================] - 0s 278us/step - loss: 133.7697 - val_loss: 233.8893\n",
      "Epoch 37/200\n",
      "18/18 [==============================] - 0s 223us/step - loss: 131.5063 - val_loss: 234.3354\n",
      "Epoch 38/200\n",
      "18/18 [==============================] - 0s 223us/step - loss: 129.0322 - val_loss: 234.9169\n",
      "Epoch 39/200\n",
      "18/18 [==============================] - 0s 223us/step - loss: 130.5476 - val_loss: 235.6551\n",
      "Epoch 40/200\n",
      "18/18 [==============================] - 0s 167us/step - loss: 126.8214 - val_loss: 236.6492\n",
      "Epoch 41/200\n",
      "18/18 [==============================] - 0s 167us/step - loss: 127.4044 - val_loss: 237.2302\n",
      "Epoch 42/200\n",
      "18/18 [==============================] - 0s 167us/step - loss: 124.3746 - val_loss: 237.5659\n",
      "Epoch 43/200\n",
      "18/18 [==============================] - 0s 167us/step - loss: 123.6770 - val_loss: 237.9977\n",
      "Epoch 44/200\n",
      "18/18 [==============================] - 0s 223us/step - loss: 121.0666 - val_loss: 238.1602\n",
      "Epoch 45/200\n",
      "18/18 [==============================] - 0s 223us/step - loss: 120.9803 - val_loss: 238.2831\n",
      "Epoch 46/200\n",
      "18/18 [==============================] - 0s 223us/step - loss: 117.9554 - val_loss: 238.2471\n",
      "Epoch 47/200\n",
      "18/18 [==============================] - 0s 167us/step - loss: 119.9015 - val_loss: 237.9476\n",
      "Epoch 48/200\n",
      "18/18 [==============================] - 0s 223us/step - loss: 115.4130 - val_loss: 237.7086\n",
      "Epoch 49/200\n",
      "18/18 [==============================] - 0s 223us/step - loss: 114.5161 - val_loss: 237.6688\n",
      "Epoch 50/200\n",
      "18/18 [==============================] - 0s 223us/step - loss: 115.2736 - val_loss: 237.7298\n",
      "Epoch 51/200\n",
      "18/18 [==============================] - 0s 223us/step - loss: 112.6828 - val_loss: 237.6065\n",
      "Epoch 52/200\n",
      "18/18 [==============================] - 0s 167us/step - loss: 112.3339 - val_loss: 237.5577\n",
      "Epoch 53/200\n",
      "18/18 [==============================] - 0s 334us/step - loss: 110.2860 - val_loss: 237.4514\n",
      "Epoch 54/200\n",
      "18/18 [==============================] - 0s 167us/step - loss: 107.4443 - val_loss: 237.2989\n",
      "Epoch 55/200\n",
      "18/18 [==============================] - 0s 167us/step - loss: 107.9511 - val_loss: 237.0875\n",
      "Epoch 56/200\n",
      "18/18 [==============================] - 0s 223us/step - loss: 106.2732 - val_loss: 236.7852\n",
      "Epoch 57/200\n",
      "18/18 [==============================] - 0s 223us/step - loss: 106.6891 - val_loss: 236.2606\n",
      "Epoch 58/200\n",
      "18/18 [==============================] - 0s 223us/step - loss: 104.5320 - val_loss: 235.7559\n",
      "Epoch 59/200\n",
      "18/18 [==============================] - 0s 223us/step - loss: 103.3428 - val_loss: 235.3911\n",
      "Epoch 60/200\n",
      "18/18 [==============================] - 0s 223us/step - loss: 102.6088 - val_loss: 235.1165\n",
      "Epoch 61/200\n",
      "18/18 [==============================] - 0s 167us/step - loss: 100.4259 - val_loss: 234.8775\n",
      "Epoch 62/200\n",
      "18/18 [==============================] - 0s 223us/step - loss: 98.7989 - val_loss: 234.4099\n",
      "Epoch 63/200\n",
      "18/18 [==============================] - 0s 223us/step - loss: 100.2957 - val_loss: 233.9961\n",
      "Epoch 64/200\n",
      "18/18 [==============================] - 0s 167us/step - loss: 98.3942 - val_loss: 233.4575\n",
      "Epoch 65/200\n",
      "18/18 [==============================] - 0s 223us/step - loss: 97.3749 - val_loss: 233.2005\n",
      "Epoch 66/200\n",
      "18/18 [==============================] - 0s 223us/step - loss: 96.1157 - val_loss: 233.0930\n",
      "Epoch 67/200\n",
      "18/18 [==============================] - 0s 167us/step - loss: 94.9448 - val_loss: 233.1180\n",
      "Epoch 68/200\n",
      "18/18 [==============================] - 0s 167us/step - loss: 93.8742 - val_loss: 233.1275\n",
      "Epoch 69/200\n",
      "18/18 [==============================] - 0s 223us/step - loss: 92.6340 - val_loss: 233.2158\n",
      "Epoch 70/200\n",
      "18/18 [==============================] - 0s 223us/step - loss: 92.9536 - val_loss: 232.9634\n",
      "Epoch 71/200\n",
      "18/18 [==============================] - 0s 167us/step - loss: 89.2196 - val_loss: 232.6294\n",
      "Epoch 72/200\n",
      "18/18 [==============================] - 0s 223us/step - loss: 90.0838 - val_loss: 232.2490\n",
      "Epoch 73/200\n",
      "18/18 [==============================] - 0s 223us/step - loss: 89.5193 - val_loss: 231.6023\n",
      "Epoch 74/200\n",
      "18/18 [==============================] - 0s 223us/step - loss: 86.9751 - val_loss: 231.1392\n",
      "Epoch 75/200\n",
      "18/18 [==============================] - 0s 223us/step - loss: 87.1608 - val_loss: 230.5238\n",
      "Epoch 76/200\n",
      "18/18 [==============================] - 0s 223us/step - loss: 87.5912 - val_loss: 229.8065\n",
      "Epoch 77/200\n",
      "18/18 [==============================] - 0s 167us/step - loss: 85.9328 - val_loss: 229.1296\n",
      "Epoch 78/200\n"
     ]
    },
    {
     "name": "stdout",
     "output_type": "stream",
     "text": [
      "18/18 [==============================] - 0s 167us/step - loss: 83.9094 - val_loss: 228.3189\n",
      "Epoch 79/200\n",
      "18/18 [==============================] - 0s 167us/step - loss: 82.3141 - val_loss: 227.3521\n",
      "Epoch 80/200\n",
      "18/18 [==============================] - 0s 167us/step - loss: 84.8105 - val_loss: 226.7588\n",
      "Epoch 81/200\n",
      "18/18 [==============================] - 0s 223us/step - loss: 80.7542 - val_loss: 225.9757\n",
      "Epoch 82/200\n",
      "18/18 [==============================] - 0s 223us/step - loss: 79.0383 - val_loss: 225.4373\n",
      "Epoch 83/200\n",
      "18/18 [==============================] - 0s 223us/step - loss: 78.9986 - val_loss: 225.0207\n",
      "Epoch 84/200\n",
      "18/18 [==============================] - 0s 223us/step - loss: 77.4949 - val_loss: 224.3921\n",
      "Epoch 85/200\n",
      "18/18 [==============================] - 0s 223us/step - loss: 81.1801 - val_loss: 224.0602\n",
      "Epoch 86/200\n",
      "18/18 [==============================] - 0s 167us/step - loss: 75.8201 - val_loss: 223.6533\n",
      "Epoch 87/200\n",
      "18/18 [==============================] - 0s 167us/step - loss: 76.2703 - val_loss: 223.2765\n",
      "Epoch 88/200\n",
      "18/18 [==============================] - 0s 167us/step - loss: 76.4589 - val_loss: 223.0376\n",
      "Epoch 89/200\n",
      "18/18 [==============================] - 0s 223us/step - loss: 73.8992 - val_loss: 222.6183\n",
      "Epoch 90/200\n",
      "18/18 [==============================] - 0s 223us/step - loss: 72.9739 - val_loss: 222.1519\n",
      "Epoch 91/200\n",
      "18/18 [==============================] - 0s 223us/step - loss: 73.0096 - val_loss: 221.5755\n",
      "Epoch 92/200\n",
      "18/18 [==============================] - 0s 223us/step - loss: 73.1260 - val_loss: 221.0253\n",
      "Epoch 93/200\n",
      "18/18 [==============================] - 0s 223us/step - loss: 71.7737 - val_loss: 220.2521\n",
      "Epoch 94/200\n",
      "18/18 [==============================] - 0s 223us/step - loss: 69.4319 - val_loss: 219.5005\n",
      "Epoch 95/200\n",
      "18/18 [==============================] - 0s 167us/step - loss: 70.3374 - val_loss: 218.8641\n",
      "Epoch 96/200\n",
      "18/18 [==============================] - 0s 167us/step - loss: 67.4053 - val_loss: 218.4788\n",
      "Epoch 97/200\n",
      "18/18 [==============================] - 0s 167us/step - loss: 67.8455 - val_loss: 218.0529\n",
      "Epoch 98/200\n",
      "18/18 [==============================] - 0s 223us/step - loss: 67.5943 - val_loss: 217.9319\n",
      "Epoch 99/200\n",
      "18/18 [==============================] - 0s 223us/step - loss: 67.4423 - val_loss: 217.7600\n",
      "Epoch 100/200\n",
      "18/18 [==============================] - 0s 223us/step - loss: 65.0500 - val_loss: 217.3958\n",
      "Epoch 101/200\n",
      "18/18 [==============================] - 0s 167us/step - loss: 64.4752 - val_loss: 217.0434\n",
      "Epoch 102/200\n",
      "18/18 [==============================] - 0s 223us/step - loss: 64.4827 - val_loss: 216.6866\n",
      "Epoch 103/200\n",
      "18/18 [==============================] - 0s 223us/step - loss: 62.6343 - val_loss: 216.5342\n",
      "Epoch 104/200\n",
      "18/18 [==============================] - 0s 167us/step - loss: 62.8776 - val_loss: 216.0973\n",
      "Epoch 105/200\n",
      "18/18 [==============================] - 0s 223us/step - loss: 62.5635 - val_loss: 215.5887\n",
      "Epoch 106/200\n",
      "18/18 [==============================] - 0s 167us/step - loss: 61.3238 - val_loss: 214.9263\n",
      "Epoch 107/200\n",
      "18/18 [==============================] - 0s 167us/step - loss: 61.1907 - val_loss: 214.3536\n",
      "Epoch 108/200\n",
      "18/18 [==============================] - 0s 223us/step - loss: 59.8914 - val_loss: 213.5429\n",
      "Epoch 109/200\n",
      "18/18 [==============================] - 0s 223us/step - loss: 59.2393 - val_loss: 212.8182\n",
      "Epoch 110/200\n",
      "18/18 [==============================] - 0s 167us/step - loss: 57.5592 - val_loss: 211.8792\n",
      "Epoch 111/200\n",
      "18/18 [==============================] - 0s 223us/step - loss: 57.9967 - val_loss: 210.9937\n",
      "Epoch 112/200\n",
      "18/18 [==============================] - 0s 167us/step - loss: 58.1357 - val_loss: 210.1589\n",
      "Epoch 113/200\n",
      "18/18 [==============================] - 0s 223us/step - loss: 56.9046 - val_loss: 209.2699\n",
      "Epoch 114/200\n",
      "18/18 [==============================] - 0s 223us/step - loss: 55.3682 - val_loss: 208.4917\n",
      "Epoch 115/200\n",
      "18/18 [==============================] - 0s 167us/step - loss: 55.0537 - val_loss: 207.3517\n",
      "Epoch 116/200\n",
      "18/18 [==============================] - 0s 223us/step - loss: 55.4893 - val_loss: 206.3660\n",
      "Epoch 117/200\n",
      "18/18 [==============================] - 0s 167us/step - loss: 51.9420 - val_loss: 205.7454\n",
      "Epoch 118/200\n",
      "18/18 [==============================] - 0s 278us/step - loss: 53.3819 - val_loss: 204.9138\n",
      "Epoch 119/200\n",
      "18/18 [==============================] - 0s 167us/step - loss: 52.8076 - val_loss: 204.4419\n",
      "Epoch 120/200\n",
      "18/18 [==============================] - 0s 167us/step - loss: 52.6385 - val_loss: 203.8190\n",
      "Epoch 121/200\n",
      "18/18 [==============================] - 0s 167us/step - loss: 51.1262 - val_loss: 203.4998\n",
      "Epoch 122/200\n",
      "18/18 [==============================] - 0s 279us/step - loss: 51.4130 - val_loss: 203.5214\n",
      "Epoch 123/200\n",
      "18/18 [==============================] - 0s 167us/step - loss: 51.0825 - val_loss: 203.4001\n",
      "Epoch 124/200\n",
      "18/18 [==============================] - 0s 223us/step - loss: 52.2537 - val_loss: 203.1501\n",
      "Epoch 125/200\n",
      "18/18 [==============================] - 0s 167us/step - loss: 49.6161 - val_loss: 202.3684\n",
      "Epoch 126/200\n",
      "18/18 [==============================] - 0s 223us/step - loss: 48.7348 - val_loss: 201.1377\n",
      "Epoch 127/200\n",
      "18/18 [==============================] - 0s 167us/step - loss: 48.3414 - val_loss: 200.0783\n",
      "Epoch 128/200\n",
      "18/18 [==============================] - 0s 167us/step - loss: 48.3135 - val_loss: 199.2048\n",
      "Epoch 129/200\n",
      "18/18 [==============================] - 0s 223us/step - loss: 47.9372 - val_loss: 198.1078\n",
      "Epoch 130/200\n",
      "18/18 [==============================] - 0s 223us/step - loss: 47.0024 - val_loss: 196.8715\n",
      "Epoch 131/200\n",
      "18/18 [==============================] - 0s 167us/step - loss: 45.2001 - val_loss: 195.9673\n",
      "Epoch 132/200\n",
      "18/18 [==============================] - 0s 223us/step - loss: 44.9617 - val_loss: 195.3394\n",
      "Epoch 133/200\n",
      "18/18 [==============================] - 0s 167us/step - loss: 44.5148 - val_loss: 195.0086\n",
      "Epoch 134/200\n",
      "18/18 [==============================] - 0s 223us/step - loss: 44.9309 - val_loss: 194.7841\n",
      "Epoch 135/200\n",
      "18/18 [==============================] - 0s 223us/step - loss: 44.7701 - val_loss: 193.9992\n",
      "Epoch 136/200\n",
      "18/18 [==============================] - 0s 223us/step - loss: 43.7577 - val_loss: 193.1387\n",
      "Epoch 137/200\n",
      "18/18 [==============================] - 0s 223us/step - loss: 42.8576 - val_loss: 192.4115\n",
      "Epoch 138/200\n",
      "18/18 [==============================] - 0s 167us/step - loss: 41.3125 - val_loss: 192.1872\n",
      "Epoch 139/200\n",
      "18/18 [==============================] - 0s 223us/step - loss: 41.2851 - val_loss: 192.1545\n",
      "Epoch 140/200\n",
      "18/18 [==============================] - 0s 223us/step - loss: 41.4058 - val_loss: 192.4114\n",
      "Epoch 141/200\n",
      "18/18 [==============================] - 0s 223us/step - loss: 41.3887 - val_loss: 192.6812\n",
      "Epoch 142/200\n",
      "18/18 [==============================] - 0s 223us/step - loss: 39.2496 - val_loss: 192.6223\n",
      "Epoch 143/200\n",
      "18/18 [==============================] - 0s 223us/step - loss: 38.8683 - val_loss: 192.5235\n",
      "Epoch 144/200\n",
      "18/18 [==============================] - 0s 223us/step - loss: 38.3643 - val_loss: 192.4548\n",
      "Epoch 145/200\n",
      "18/18 [==============================] - 0s 167us/step - loss: 39.8912 - val_loss: 192.3517\n",
      "Epoch 146/200\n",
      "18/18 [==============================] - 0s 167us/step - loss: 38.7013 - val_loss: 192.2517\n",
      "Epoch 147/200\n",
      "18/18 [==============================] - 0s 223us/step - loss: 37.8406 - val_loss: 192.0149\n",
      "Epoch 148/200\n",
      "18/18 [==============================] - 0s 223us/step - loss: 36.9199 - val_loss: 191.7169\n",
      "Epoch 149/200\n",
      "18/18 [==============================] - 0s 278us/step - loss: 36.7728 - val_loss: 191.0128\n",
      "Epoch 150/200\n",
      "18/18 [==============================] - 0s 223us/step - loss: 36.8623 - val_loss: 190.5282\n",
      "Epoch 151/200\n",
      "18/18 [==============================] - 0s 167us/step - loss: 35.6817 - val_loss: 189.7186\n",
      "Epoch 152/200\n",
      "18/18 [==============================] - 0s 223us/step - loss: 37.4047 - val_loss: 189.3782\n",
      "Epoch 153/200\n",
      "18/18 [==============================] - 0s 223us/step - loss: 35.6336 - val_loss: 189.1383\n",
      "Epoch 154/200\n",
      "18/18 [==============================] - 0s 167us/step - loss: 34.4831 - val_loss: 189.3801\n",
      "Epoch 155/200\n",
      "18/18 [==============================] - 0s 278us/step - loss: 35.3526 - val_loss: 189.4688\n"
     ]
    },
    {
     "name": "stdout",
     "output_type": "stream",
     "text": [
      "Epoch 156/200\n",
      "18/18 [==============================] - 0s 223us/step - loss: 33.9762 - val_loss: 189.6696\n",
      "Epoch 157/200\n",
      "18/18 [==============================] - 0s 223us/step - loss: 35.0832 - val_loss: 189.2897\n",
      "Epoch 158/200\n",
      "18/18 [==============================] - 0s 167us/step - loss: 32.7436 - val_loss: 188.8945\n",
      "Epoch 159/200\n",
      "18/18 [==============================] - 0s 223us/step - loss: 33.7708 - val_loss: 187.9336\n",
      "Epoch 160/200\n",
      "18/18 [==============================] - 0s 167us/step - loss: 32.5886 - val_loss: 186.9014\n",
      "Epoch 161/200\n",
      "18/18 [==============================] - 0s 223us/step - loss: 31.9320 - val_loss: 186.3526\n",
      "Epoch 162/200\n",
      "18/18 [==============================] - 0s 167us/step - loss: 32.6138 - val_loss: 185.4086\n",
      "Epoch 163/200\n",
      "18/18 [==============================] - 0s 278us/step - loss: 31.9086 - val_loss: 184.2738\n",
      "Epoch 164/200\n",
      "18/18 [==============================] - 0s 167us/step - loss: 31.7448 - val_loss: 183.4730\n",
      "Epoch 165/200\n",
      "18/18 [==============================] - 0s 223us/step - loss: 30.8513 - val_loss: 182.8153\n",
      "Epoch 166/200\n",
      "18/18 [==============================] - 0s 279us/step - loss: 33.1530 - val_loss: 182.4470\n",
      "Epoch 167/200\n",
      "18/18 [==============================] - 0s 223us/step - loss: 30.7065 - val_loss: 182.4978\n",
      "Epoch 168/200\n",
      "18/18 [==============================] - 0s 167us/step - loss: 30.0941 - val_loss: 182.6620\n",
      "Epoch 169/200\n",
      "18/18 [==============================] - 0s 167us/step - loss: 29.7475 - val_loss: 182.9856\n",
      "Epoch 170/200\n",
      "18/18 [==============================] - 0s 279us/step - loss: 29.6876 - val_loss: 182.8589\n",
      "Epoch 171/200\n",
      "18/18 [==============================] - 0s 167us/step - loss: 29.1904 - val_loss: 181.9634\n",
      "Epoch 172/200\n",
      "18/18 [==============================] - 0s 223us/step - loss: 29.8060 - val_loss: 181.0351\n",
      "Epoch 173/200\n",
      "18/18 [==============================] - 0s 279us/step - loss: 28.7049 - val_loss: 180.2850\n",
      "Epoch 174/200\n",
      "18/18 [==============================] - 0s 167us/step - loss: 29.2833 - val_loss: 179.2419\n",
      "Epoch 175/200\n",
      "18/18 [==============================] - 0s 223us/step - loss: 27.9947 - val_loss: 178.5627\n",
      "Epoch 176/200\n",
      "18/18 [==============================] - 0s 223us/step - loss: 28.9790 - val_loss: 177.9583\n",
      "Epoch 177/200\n",
      "18/18 [==============================] - 0s 167us/step - loss: 27.5660 - val_loss: 177.5758\n",
      "Epoch 178/200\n",
      "18/18 [==============================] - 0s 223us/step - loss: 27.0408 - val_loss: 177.1674\n",
      "Epoch 179/200\n",
      "18/18 [==============================] - 0s 167us/step - loss: 30.0765 - val_loss: 176.9094\n",
      "Epoch 180/200\n",
      "18/18 [==============================] - 0s 223us/step - loss: 27.3083 - val_loss: 176.7830\n",
      "Epoch 181/200\n",
      "18/18 [==============================] - 0s 167us/step - loss: 26.8931 - val_loss: 176.2607\n",
      "Epoch 182/200\n",
      "18/18 [==============================] - 0s 167us/step - loss: 27.3647 - val_loss: 175.6589\n",
      "Epoch 183/200\n",
      "18/18 [==============================] - 0s 167us/step - loss: 25.6790 - val_loss: 174.7683\n",
      "Epoch 184/200\n",
      "18/18 [==============================] - 0s 167us/step - loss: 27.6147 - val_loss: 174.1376\n",
      "Epoch 185/200\n",
      "18/18 [==============================] - 0s 223us/step - loss: 26.6459 - val_loss: 173.8730\n",
      "Epoch 186/200\n",
      "18/18 [==============================] - 0s 223us/step - loss: 26.1590 - val_loss: 174.5407\n",
      "Epoch 187/200\n",
      "18/18 [==============================] - 0s 223us/step - loss: 24.6205 - val_loss: 175.1538\n",
      "Epoch 188/200\n",
      "18/18 [==============================] - 0s 223us/step - loss: 25.5810 - val_loss: 175.3771\n",
      "Epoch 189/200\n",
      "18/18 [==============================] - 0s 223us/step - loss: 27.8160 - val_loss: 175.9195\n",
      "Epoch 190/200\n",
      "18/18 [==============================] - 0s 278us/step - loss: 25.4796 - val_loss: 176.0458\n",
      "Epoch 191/200\n",
      "18/18 [==============================] - 0s 223us/step - loss: 24.4764 - val_loss: 176.4591\n",
      "Epoch 192/200\n",
      "18/18 [==============================] - 0s 223us/step - loss: 25.0240 - val_loss: 176.5951\n",
      "Epoch 193/200\n",
      "18/18 [==============================] - 0s 223us/step - loss: 24.3844 - val_loss: 176.4058\n",
      "Epoch 194/200\n",
      "18/18 [==============================] - 0s 167us/step - loss: 23.7828 - val_loss: 176.6830\n",
      "Epoch 195/200\n",
      "18/18 [==============================] - 0s 223us/step - loss: 23.9170 - val_loss: 176.4122\n",
      "Epoch 196/200\n",
      "18/18 [==============================] - 0s 223us/step - loss: 23.5345 - val_loss: 175.6881\n",
      "Epoch 197/200\n",
      "18/18 [==============================] - 0s 223us/step - loss: 23.2279 - val_loss: 175.0367\n",
      "Epoch 198/200\n",
      "18/18 [==============================] - 0s 167us/step - loss: 23.9284 - val_loss: 174.1523\n",
      "Epoch 199/200\n",
      "18/18 [==============================] - 0s 223us/step - loss: 24.1172 - val_loss: 173.0687\n",
      "Epoch 200/200\n",
      "18/18 [==============================] - 0s 167us/step - loss: 23.2838 - val_loss: 172.1543\n"
     ]
    },
    {
     "data": {
      "text/plain": [
       "<keras.callbacks.History at 0x212e071c8d0>"
      ]
     },
     "execution_count": 35,
     "metadata": {},
     "output_type": "execute_result"
    }
   ],
   "source": [
    "model.fit(X_train,Y_train,epochs=200,validation_data=(X_val,Y_val))"
   ]
  },
  {
   "cell_type": "code",
   "execution_count": 36,
   "metadata": {
    "collapsed": true
   },
   "outputs": [],
   "source": [
    "predict_y_nn = model.predict(X_val)"
   ]
  },
  {
   "cell_type": "code",
   "execution_count": 37,
   "metadata": {},
   "outputs": [
    {
     "data": {
      "text/plain": [
       "3025.4687676604249"
      ]
     },
     "execution_count": 37,
     "metadata": {},
     "output_type": "execute_result"
    }
   ],
   "source": [
    "loss(Y_val,predict_y_nn)"
   ]
  },
  {
   "cell_type": "markdown",
   "metadata": {},
   "source": [
    "# Lasso and Ridge Regression\n",
    "正则化线性回归"
   ]
  },
  {
   "cell_type": "code",
   "execution_count": 38,
   "metadata": {
    "collapsed": true
   },
   "outputs": [],
   "source": [
    "from sklearn.linear_model import LinearRegression,Lasso,Ridge"
   ]
  },
  {
   "cell_type": "code",
   "execution_count": 39,
   "metadata": {},
   "outputs": [
    {
     "data": {
      "text/plain": [
       "8289.8152761726433"
      ]
     },
     "execution_count": 39,
     "metadata": {},
     "output_type": "execute_result"
    }
   ],
   "source": [
    "lr = LinearRegression() \n",
    "lr.fit(X_train,Y_train)\n",
    "predict_lr = lr.predict(X_val)\n",
    "loss(Y_val,predict_lr)"
   ]
  },
  {
   "cell_type": "code",
   "execution_count": 40,
   "metadata": {},
   "outputs": [
    {
     "data": {
      "text/plain": [
       "8208.1998715853733"
      ]
     },
     "execution_count": 40,
     "metadata": {},
     "output_type": "execute_result"
    }
   ],
   "source": [
    "lr = Ridge()\n",
    "lr.fit(X_train,Y_train)\n",
    "predict_lr = lr.predict(X_val)\n",
    "loss(Y_val,predict_lr)"
   ]
  },
  {
   "cell_type": "code",
   "execution_count": 41,
   "metadata": {},
   "outputs": [
    {
     "name": "stderr",
     "output_type": "stream",
     "text": [
      "C:\\Users\\taita\\Anaconda3\\lib\\site-packages\\sklearn\\linear_model\\coordinate_descent.py:491: ConvergenceWarning: Objective did not converge. You might want to increase the number of iterations. Fitting data with very small alpha may cause precision problems.\n",
      "  ConvergenceWarning)\n"
     ]
    },
    {
     "data": {
      "text/plain": [
       "4877.9795569362877"
      ]
     },
     "execution_count": 41,
     "metadata": {},
     "output_type": "execute_result"
    }
   ],
   "source": [
    "lr = Lasso()\n",
    "lr.fit(X_train,Y_train)\n",
    "predict_lr = lr.predict(X_val)\n",
    "loss(Y_val,predict_lr)"
   ]
  },
  {
   "cell_type": "markdown",
   "metadata": {},
   "source": [
    "# ElasticNet  *"
   ]
  },
  {
   "cell_type": "code",
   "execution_count": 42,
   "metadata": {
    "collapsed": true
   },
   "outputs": [],
   "source": [
    "from sklearn.linear_model import ElasticNet"
   ]
  },
  {
   "cell_type": "code",
   "execution_count": 43,
   "metadata": {},
   "outputs": [
    {
     "data": {
      "text/plain": [
       "5524.3525985894648"
      ]
     },
     "execution_count": 43,
     "metadata": {},
     "output_type": "execute_result"
    }
   ],
   "source": [
    "en = ElasticNet()\n",
    "en.fit(X_train,Y_train)\n",
    "predict_en = en.predict(X_val)\n",
    "loss(Y_val,predict_en)"
   ]
  },
  {
   "cell_type": "markdown",
   "metadata": {},
   "source": [
    "# 第二部分 其他的一些方法"
   ]
  },
  {
   "cell_type": "markdown",
   "metadata": {},
   "source": [
    "# SGDRegressor"
   ]
  },
  {
   "cell_type": "code",
   "execution_count": 44,
   "metadata": {
    "collapsed": true
   },
   "outputs": [],
   "source": [
    "from sklearn.linear_model import SGDRegressor"
   ]
  },
  {
   "cell_type": "code",
   "execution_count": 45,
   "metadata": {
    "collapsed": true
   },
   "outputs": [],
   "source": [
    "R = []\n",
    "for i in range(Y_train.shape[1]):\n",
    "    clf = SGDRegressor(max_iter=10000)\n",
    "    clf.fit(X_train,Y_train[:,i])\n",
    "    predict = clf.predict(X_val)\n",
    "    R.append(predict)"
   ]
  },
  {
   "cell_type": "code",
   "execution_count": 46,
   "metadata": {},
   "outputs": [
    {
     "data": {
      "text/plain": [
       "4.7881782829153673e+24"
      ]
     },
     "execution_count": 46,
     "metadata": {},
     "output_type": "execute_result"
    }
   ],
   "source": [
    "loss(Y_val,np.array(R).T)"
   ]
  },
  {
   "cell_type": "markdown",
   "metadata": {},
   "source": [
    "# SVR (Support Vector Regression)"
   ]
  },
  {
   "cell_type": "code",
   "execution_count": 47,
   "metadata": {
    "collapsed": true
   },
   "outputs": [],
   "source": [
    "from sklearn.svm import SVR"
   ]
  },
  {
   "cell_type": "code",
   "execution_count": 48,
   "metadata": {
    "collapsed": true
   },
   "outputs": [],
   "source": [
    "R = []\n",
    "for i in range(Y_train.shape[1]):\n",
    "    clf = SVR()\n",
    "    clf.fit(X_train,Y_train[:,i])\n",
    "    predict = clf.predict(X_val)\n",
    "    R.append(predict)"
   ]
  },
  {
   "cell_type": "code",
   "execution_count": 49,
   "metadata": {},
   "outputs": [
    {
     "data": {
      "text/plain": [
       "4092.2653155766225"
      ]
     },
     "execution_count": 49,
     "metadata": {},
     "output_type": "execute_result"
    }
   ],
   "source": [
    "loss(Y_val,np.array(R).T)"
   ]
  },
  {
   "cell_type": "markdown",
   "metadata": {},
   "source": [
    "# DecisionTreeRegressor"
   ]
  },
  {
   "cell_type": "code",
   "execution_count": 50,
   "metadata": {},
   "outputs": [
    {
     "data": {
      "text/plain": [
       "2607.5999999999999"
      ]
     },
     "execution_count": 50,
     "metadata": {},
     "output_type": "execute_result"
    }
   ],
   "source": [
    "from sklearn import tree\n",
    "clf = tree.DecisionTreeRegressor()\n",
    "clf.fit(X_train,Y_train)\n",
    "predict = clf.predict(X_val)\n",
    "loss(Y_val,predict)"
   ]
  },
  {
   "cell_type": "markdown",
   "metadata": {},
   "source": [
    "# AdaBoostRegressor"
   ]
  },
  {
   "cell_type": "code",
   "execution_count": 51,
   "metadata": {
    "collapsed": true
   },
   "outputs": [],
   "source": [
    "from sklearn.ensemble import AdaBoostRegressor"
   ]
  },
  {
   "cell_type": "code",
   "execution_count": 52,
   "metadata": {},
   "outputs": [
    {
     "data": {
      "text/plain": [
       "2976.4805555555554"
      ]
     },
     "execution_count": 52,
     "metadata": {},
     "output_type": "execute_result"
    }
   ],
   "source": [
    "R = []\n",
    "for i in range(Y_train.shape[1]):\n",
    "    clf = AdaBoostRegressor()\n",
    "    clf.fit(X_train,Y_train[:,i])\n",
    "    predict = clf.predict(X_val)\n",
    "    R.append(predict)\n",
    "loss(Y_val,np.array(R).T)"
   ]
  },
  {
   "cell_type": "markdown",
   "metadata": {},
   "source": [
    "# GradientBoostingRegressor"
   ]
  },
  {
   "cell_type": "code",
   "execution_count": 53,
   "metadata": {},
   "outputs": [
    {
     "data": {
      "text/plain": [
       "3224.7744100647114"
      ]
     },
     "execution_count": 53,
     "metadata": {},
     "output_type": "execute_result"
    }
   ],
   "source": [
    "from sklearn.ensemble import GradientBoostingRegressor\n",
    "R = []\n",
    "for i in range(Y_train.shape[1]):\n",
    "    clf = GradientBoostingRegressor()\n",
    "    clf.fit(X_train,Y_train[:,i])\n",
    "    predict_gbr_y = clf.predict(X_val)\n",
    "    R.append(predict_gbr_y)\n",
    "loss(Y_val,np.array(R).T)"
   ]
  },
  {
   "cell_type": "markdown",
   "metadata": {},
   "source": [
    "# HuberRegressor"
   ]
  },
  {
   "cell_type": "code",
   "execution_count": 54,
   "metadata": {},
   "outputs": [
    {
     "data": {
      "text/plain": [
       "10142.871179572237"
      ]
     },
     "execution_count": 54,
     "metadata": {},
     "output_type": "execute_result"
    }
   ],
   "source": [
    "from sklearn.linear_model import HuberRegressor\n",
    "R = []\n",
    "for i in range(Y_train.shape[1]):\n",
    "    clf = HuberRegressor()\n",
    "    clf.fit(X_train,Y_train[:,i])\n",
    "    predict_gbr_y = clf.predict(X_val)\n",
    "    R.append(predict_gbr_y)\n",
    "loss(Y_val,np.array(R).T)"
   ]
  },
  {
   "cell_type": "markdown",
   "metadata": {},
   "source": [
    "# PassiveAggressiveRegressor"
   ]
  },
  {
   "cell_type": "code",
   "execution_count": 55,
   "metadata": {},
   "outputs": [
    {
     "name": "stderr",
     "output_type": "stream",
     "text": [
      "C:\\Users\\taita\\Anaconda3\\lib\\site-packages\\sklearn\\linear_model\\stochastic_gradient.py:84: FutureWarning: max_iter and tol parameters have been added in <class 'sklearn.linear_model.passive_aggressive.PassiveAggressiveRegressor'> in 0.19. If both are left unset, they default to max_iter=5 and tol=None. If tol is not None, max_iter defaults to max_iter=1000. From 0.21, default max_iter will be 1000, and default tol will be 1e-3.\n",
      "  \"and default tol will be 1e-3.\" % type(self), FutureWarning)\n"
     ]
    },
    {
     "data": {
      "text/plain": [
       "4836.876788121428"
      ]
     },
     "execution_count": 55,
     "metadata": {},
     "output_type": "execute_result"
    }
   ],
   "source": [
    "from sklearn.linear_model import PassiveAggressiveRegressor\n",
    "R = []\n",
    "for i in range(Y_train.shape[1]):\n",
    "    clf = PassiveAggressiveRegressor()\n",
    "    clf.fit(X_train,Y_train[:,i])\n",
    "    predict_gbr_y = clf.predict(X_val)\n",
    "    R.append(predict_gbr_y)\n",
    "loss(Y_val,np.array(R).T)"
   ]
  },
  {
   "cell_type": "markdown",
   "metadata": {},
   "source": [
    "# 附录\n",
    "模型选择"
   ]
  },
  {
   "cell_type": "code",
   "execution_count": 56,
   "metadata": {},
   "outputs": [
    {
     "data": {
      "image/png": "[encoded data removed]",
      "text/plain": [
       "<IPython.core.display.Image object>"
      ]
     },
     "execution_count": 56,
     "metadata": {},
     "output_type": "execute_result"
    }
   ],
   "source": [
    "from IPython.display import Image\n",
    "Image(\"modelselection.png\")"
   ]
  },
  {
   "cell_type": "code",
   "execution_count": 57,
   "metadata": {
    "collapsed": true
   },
   "outputs": [],
   "source": [
    "# from IPython.display import Image\n",
    "# Image(\"modelselection.png\")"
   ]
  },
  {
   "cell_type": "code",
   "execution_count": null,
   "metadata": {
    "collapsed": true
   },
   "outputs": [],
   "source": []
  }
 ],
 "metadata": {
  "kernelspec": {
   "display_name": "Python 3",
   "language": "python",
   "name": "python3"
  },
  "language_info": {
   "codemirror_mode": {
    "name": "ipython",
    "version": 3
   },
   "file_extension": ".py",
   "mimetype": "text/x-python",
   "name": "python",
   "nbconvert_exporter": "python",
   "pygments_lexer": "ipython3",
   "version": "3.6.2"
  }
 },
 "nbformat": 4,
 "nbformat_minor": 2
}
