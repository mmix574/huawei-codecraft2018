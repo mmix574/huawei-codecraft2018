{
 "cells": [
  {
   "cell_type": "code",
   "execution_count": 1,
   "metadata": {
    "collapsed": true
   },
   "outputs": [],
   "source": [
    "import numpy as np\n",
    "import pandas as pd\n",
    "import matplotlib.pyplot as plt"
   ]
  },
  {
   "cell_type": "code",
   "execution_count": 2,
   "metadata": {
    "collapsed": true
   },
   "outputs": [],
   "source": [
    "# 时间段1\n",
    "list_of_files = ['data_2015_1.txt','data_2015_2.txt','data_2015_3.txt','data_2015_4.txt','data_2015_5.txt']\n",
    "# 时间段2\n",
    "# list_of_files = ['data_2015_12.txt','data_2016_1.txt']\n",
    "lists_of_dataframe = [pd.read_table(list_of_files[i],header=None) for i in range(len(list_of_files))]"
   ]
  },
  {
   "cell_type": "code",
   "execution_count": 3,
   "metadata": {},
   "outputs": [
    {
     "name": "stdout",
     "output_type": "stream",
     "text": [
      "一共有这么多条数据--> 1981\n"
     ]
    }
   ],
   "source": [
    "# 合并数据\n",
    "df = pd.concat(lists_of_dataframe,axis=0,ignore_index=True)\n",
    "print('一共有这么多条数据-->',df.shape[0])"
   ]
  },
  {
   "cell_type": "code",
   "execution_count": 4,
   "metadata": {
    "collapsed": true
   },
   "outputs": [],
   "source": [
    "df.columns = ['uuid','flover_raw','time_raw']\n",
    "df['time'] = pd.to_datetime(df['time_raw'])\n",
    "df['flover'] = df['flover_raw'].apply(lambda x:int(x[x.find('r')+1:]))\n",
    "df['date'] = df['time'].apply(lambda x:pd.datetime.date(x))"
   ]
  },
  {
   "cell_type": "code",
   "execution_count": 5,
   "metadata": {
    "collapsed": true
   },
   "outputs": [],
   "source": [
    "# df"
   ]
  },
  {
   "cell_type": "markdown",
   "metadata": {},
   "source": [
    "# 开始切片\n",
    "需要质量检测"
   ]
  },
  {
   "cell_type": "code",
   "execution_count": 6,
   "metadata": {
    "collapsed": true
   },
   "outputs": [],
   "source": [
    "from datetime import datetime\n",
    "from datetime import timedelta\n",
    "import os"
   ]
  },
  {
   "cell_type": "code",
   "execution_count": 7,
   "metadata": {
    "collapsed": true
   },
   "outputs": [],
   "source": [
    "training_days = 50\n",
    "testing_days = 7\n",
    "strike = 7\n",
    "align = 'right' #left\n",
    "# 右对齐时候，放弃左边时间长度不够的切片"
   ]
  },
  {
   "cell_type": "code",
   "execution_count": 8,
   "metadata": {},
   "outputs": [
    {
     "name": "stdout",
     "output_type": "stream",
     "text": [
      "2015-12-01 00:17:03 2016-01-31 21:49:40\n",
      "默认是2015年1月1日00:00开始 2015年5月30日23:59结束\n"
     ]
    }
   ],
   "source": [
    "print(df['time'][0],df['time'][df['time'].shape[0]-1])\n",
    "print('默认是2015年1月1日00:00开始','2015年5月30日23:59结束')"
   ]
  },
  {
   "cell_type": "code",
   "execution_count": 9,
   "metadata": {
    "collapsed": true
   },
   "outputs": [],
   "source": [
    "assert(align=='right')"
   ]
  },
  {
   "cell_type": "code",
   "execution_count": 10,
   "metadata": {
    "collapsed": true
   },
   "outputs": [],
   "source": [
    "days = (df['time'][df['time'].shape[0]-1] - df['time'][0]).days +1"
   ]
  },
  {
   "cell_type": "code",
   "execution_count": 11,
   "metadata": {
    "collapsed": true
   },
   "outputs": [],
   "source": [
    "resample_sets_count = (days-training_days-testing_days)//strike"
   ]
  },
  {
   "cell_type": "code",
   "execution_count": 12,
   "metadata": {
    "collapsed": true
   },
   "outputs": [],
   "source": [
    "if align=='right':\n",
    "    skip_days =  (days-training_days)%testing_days\n",
    "elif align=='left':\n",
    "    skip_days = 0"
   ]
  },
  {
   "cell_type": "code",
   "execution_count": 13,
   "metadata": {
    "collapsed": true
   },
   "outputs": [],
   "source": [
    "_start_time = datetime.combine(df['time'][0].date() + timedelta(days=skip_days),datetime.min.time())"
   ]
  },
  {
   "cell_type": "code",
   "execution_count": 14,
   "metadata": {
    "collapsed": true
   },
   "outputs": [],
   "source": [
    "dirname = 'slicing_{}days_{}days_strike{}'.format(training_days,testing_days,strike)\n",
    "# if not dirname in os.listdir():\n",
    "#     os.mkdir(dirname)"
   ]
  },
  {
   "cell_type": "code",
   "execution_count": 15,
   "metadata": {},
   "outputs": [
    {
     "name": "stdout",
     "output_type": "stream",
     "text": [
      "0th 1737 165\n",
      "1th 1734 137\n",
      "2th 1729 106\n",
      "3th 1693 63\n",
      "4th 1682 26\n"
     ]
    }
   ],
   "source": [
    "for i in range(resample_sets_count):\n",
    "    training_range = [_start_time,_start_time+timedelta(days=training_days)]\n",
    "    training_range = [x+timedelta(days=strike*i) for x in training_range]\n",
    "    testing_range = [_start_time + timedelta(days=training_days),_start_time + timedelta(days=training_days+testing_days)]\n",
    "    testing_range = [x+timedelta(days=strike*i) for x in testing_range]\n",
    "#     print(training_range,testing_range) #check passed\n",
    "#     print(str(testing_range[0]))\n",
    "    df_train = (df[(df['time']>training_range[0]) & (df['time']<training_range[1])])\n",
    "    df_test = (df[(df['time']>testing_range[0]) & (df['time']<testing_range[1])])\n",
    "    \n",
    "    if os.path.exists('{}/{}'.format(dirname,i)):\n",
    "#         print('exist!')\n",
    "#         continue\n",
    "        pass\n",
    "    else:\n",
    "        os.makedirs('{}/{}'.format(dirname,i))\n",
    "        \n",
    "    df_train[['uuid','flover_raw','time_raw']].to_csv('{}/{}/train.txt'.format(dirname,i),header=None,index=None,sep='\\t')\n",
    "    df_test[['uuid','flover_raw','time_raw']].to_csv('{}/{}/test.txt'.format(dirname,i),header=None,index=None,sep='\\t')\n",
    "    f = open('{}/{}/test_timerange.txt'.format(dirname,i),'w+')\n",
    "    f.writelines([str(testing_range[0]),'\\n',str(testing_range[1])])\n",
    "    f.close()\n",
    "    print('{}th'.format(i),df_train.shape[0],df_test.shape[0])"
   ]
  }
 ],
 "metadata": {
  "kernelspec": {
   "display_name": "Python 3",
   "language": "python",
   "name": "python3"
  },
  "language_info": {
   "codemirror_mode": {
    "name": "ipython",
    "version": 3
   },
   "file_extension": ".py",
   "mimetype": "text/x-python",
   "name": "python",
   "nbconvert_exporter": "python",
   "pygments_lexer": "ipython3",
   "version": "3.6.1"
  }
 },
 "nbformat": 4,
 "nbformat_minor": 2
}
